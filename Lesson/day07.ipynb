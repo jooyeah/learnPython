{
 "cells": [
  {
   "cell_type": "markdown",
   "id": "handmade-profile",
   "metadata": {},
   "source": [
    "## 7일차 수업\n",
    "\n",
    "### 객체지향\n",
    "\n",
    "클래스 class : 사람 (틀, 프레임)  \n",
    "객체 object : 한 반의 학생들  \n",
    "개체 instance   \n",
    "\n"
   ]
  },
  {
   "cell_type": "code",
   "execution_count": 4,
   "id": "precious-lodging",
   "metadata": {},
   "outputs": [],
   "source": [
    "# 클래스 생성\n",
    "# class 클래스이름 :\n",
    "#      속성리스트\n",
    "#      메서드리스트\n",
    "# 클래스 이름은 대문자로 시작\n",
    "\n",
    "\n",
    "#클래스 정의\n",
    "class Dog :\n",
    "    def __init__(self, name, age) :  #constructor, 생성자\n",
    "        \"\"\"생성자, 이름과 나이를 패러미터로 받아 초기화 역할\"\"\"\n",
    "        self.name = name\n",
    "        self.age = age\n",
    "        \n",
    "        \n",
    "    def sit(self) :\n",
    "        print(f\"{self.name} is now sitting.\") \n",
    "        \n",
    "    def roll_over(self):\n",
    "        print(f\"{self.name} rolled over!\")\n",
    "        \n",
    "    def describe(self):\n",
    "        print(f\"{self.name} is {self.age} years old.\")\n",
    "        \n",
    "        \n"
   ]
  },
  {
   "cell_type": "code",
   "execution_count": 6,
   "id": "collective-waters",
   "metadata": {},
   "outputs": [],
   "source": [
    "# 클래스로부터 객체 생성하기\n",
    "myDog = Dog(\"Willie\", 5)\n"
   ]
  },
  {
   "cell_type": "code",
   "execution_count": 8,
   "id": "productive-joint",
   "metadata": {},
   "outputs": [
    {
     "name": "stdout",
     "output_type": "stream",
     "text": [
      "Willie is 5 years old.\n",
      "Willie is now sitting.\n",
      "Willie rolled over!\n"
     ]
    }
   ],
   "source": [
    "myDog.describe()\n",
    "myDog.sit()\n",
    "myDog.roll_over()"
   ]
  },
  {
   "cell_type": "code",
   "execution_count": 9,
   "id": "latest-conference",
   "metadata": {},
   "outputs": [],
   "source": [
    "urDog = Dog(\"Mark\", 3)"
   ]
  },
  {
   "cell_type": "code",
   "execution_count": 11,
   "id": "charitable-ending",
   "metadata": {},
   "outputs": [
    {
     "name": "stdout",
     "output_type": "stream",
     "text": [
      "Mark is 3 years old.\n",
      "Mark is now sitting.\n",
      "Mark rolled over!\n"
     ]
    }
   ],
   "source": [
    "urDog.describe()\n",
    "urDog.sit()\n",
    "urDog.roll_over()"
   ]
  },
  {
   "cell_type": "code",
   "execution_count": 12,
   "id": "social-acting",
   "metadata": {},
   "outputs": [
    {
     "data": {
      "text/plain": [
       "'Willie'"
      ]
     },
     "execution_count": 12,
     "metadata": {},
     "output_type": "execute_result"
    }
   ],
   "source": [
    "myDog.name"
   ]
  },
  {
   "cell_type": "code",
   "execution_count": 15,
   "id": "acceptable-community",
   "metadata": {},
   "outputs": [
    {
     "data": {
      "text/plain": [
       "5"
      ]
     },
     "execution_count": 15,
     "metadata": {},
     "output_type": "execute_result"
    }
   ],
   "source": [
    "myDog.age"
   ]
  },
  {
   "cell_type": "code",
   "execution_count": 23,
   "id": "canadian-volleyball",
   "metadata": {},
   "outputs": [],
   "source": [
    "#9-1\n",
    "\n",
    "class Restaurant:\n",
    "    def __init__(self, name, type):\n",
    "        self.name = name\n",
    "        self.type = type\n",
    "        \n",
    "    def open(self):\n",
    "        print(f\"{self.name} is now open.\")\n",
    "        \n",
    "    def type(self):\n",
    "        print(f\"{self.type} is the menu.\")\n",
    "        \n",
    "    def describe(self):\n",
    "        print(f\"{self.name}'s menu is {self.type}.\")"
   ]
  },
  {
   "cell_type": "code",
   "execution_count": 24,
   "id": "ultimate-moses",
   "metadata": {},
   "outputs": [],
   "source": [
    "newRestaurant = Restaurant(\"New\", \"pasta\")"
   ]
  },
  {
   "cell_type": "code",
   "execution_count": 27,
   "id": "continental-denver",
   "metadata": {},
   "outputs": [
    {
     "name": "stdout",
     "output_type": "stream",
     "text": [
      "New is now open.\n"
     ]
    }
   ],
   "source": [
    "newRestaurant.open()"
   ]
  },
  {
   "cell_type": "code",
   "execution_count": 29,
   "id": "shared-mileage",
   "metadata": {},
   "outputs": [
    {
     "name": "stdout",
     "output_type": "stream",
     "text": [
      "New's menu is pasta.\n"
     ]
    }
   ],
   "source": [
    "newRestaurant.describe()"
   ]
  },
  {
   "cell_type": "code",
   "execution_count": 30,
   "id": "polished-laser",
   "metadata": {},
   "outputs": [],
   "source": [
    "oldRestaurant = Restaurant(\"Old\", \"steak\")"
   ]
  },
  {
   "cell_type": "code",
   "execution_count": 32,
   "id": "consecutive-criminal",
   "metadata": {},
   "outputs": [
    {
     "name": "stdout",
     "output_type": "stream",
     "text": [
      "New is now open.\n",
      "New's menu is pasta.\n",
      "Old is now open.\n",
      "Old's menu is steak.\n"
     ]
    }
   ],
   "source": [
    "newRestaurant.open()\n",
    "newRestaurant.describe()\n",
    "oldRestaurant.open()\n",
    "oldRestaurant.describe()"
   ]
  },
  {
   "cell_type": "code",
   "execution_count": 51,
   "id": "outer-sailing",
   "metadata": {},
   "outputs": [],
   "source": [
    "#9-3\n",
    "\n",
    "class User:\n",
    "    def __init__(self, first_name, last_name, age):\n",
    "        self.first_name = first_name\n",
    "        self.last_name = last_name\n",
    "        self.age = age\n",
    "        \n",
    "    def introduce(self):\n",
    "        print(f\"Hi, I'm {self.first_name} {self.last_name}.\")\n",
    "        \n",
    "    def age(self):\n",
    "        print(f\"I'm {self.age} years old.\")\n",
    "        \n",
    "    def describe(self):\n",
    "        print(f\"My name is {self.last_name} and {self.age} years.\")"
   ]
  },
  {
   "cell_type": "code",
   "execution_count": 49,
   "id": "british-reform",
   "metadata": {},
   "outputs": [],
   "source": [
    "newUser = User(\"ye\", \"yongju\", 25)"
   ]
  },
  {
   "cell_type": "code",
   "execution_count": 53,
   "id": "muslim-thanksgiving",
   "metadata": {},
   "outputs": [
    {
     "name": "stdout",
     "output_type": "stream",
     "text": [
      "My name is yongju and 25 years.\n",
      "Hi, I'm ye yongju.\n"
     ]
    },
    {
     "data": {
      "text/plain": [
       "25"
      ]
     },
     "execution_count": 53,
     "metadata": {},
     "output_type": "execute_result"
    }
   ],
   "source": [
    "newUser.describe()\n",
    "newUser.introduce()\n",
    "newUser.age"
   ]
  },
  {
   "cell_type": "code",
   "execution_count": 55,
   "id": "separated-accident",
   "metadata": {},
   "outputs": [
    {
     "name": "stdout",
     "output_type": "stream",
     "text": [
      "2021 현대 그랜저\n",
      "이 자동차의 총 주행거리는 0km.\n",
      "이 자동차의 총 주행거리는 250km.\n"
     ]
    }
   ],
   "source": [
    "class Car:\n",
    "    def __init__(self, maker, model, year):\n",
    "        self.maker = maker\n",
    "        self.model = model\n",
    "        self.year = year\n",
    "        self.odometer = 0\n",
    "        \n",
    "    def descriptiveName(self):\n",
    "        longName = f\"{self.year} {self.maker} {self.model}\"\n",
    "        return longName\n",
    "    \n",
    "    def run(self, running):\n",
    "        self.odometer += running\n",
    "    \n",
    "    def showinfo(self):\n",
    "        print(f\"이 자동차의 총 주행거리는 {self.odometer}km.\")\n",
    "        \n",
    "myCar = Car(\"현대\", \"그랜저\", 2021)\n",
    "print(myCar.descriptiveName())\n",
    "myCar.showinfo()\n",
    "myCar.run(250)\n",
    "myCar.showinfo()\n"
   ]
  },
  {
   "cell_type": "code",
   "execution_count": 70,
   "id": "pressed-scale",
   "metadata": {},
   "outputs": [],
   "source": [
    "# 상속, \n",
    "# 서브클래스이름 (슈퍼클래스)\n",
    "class ElectricCar(Car):\n",
    "    def __init__ (self, maker ,model, year):\n",
    "        super().__init__(maker, model, year)\n",
    "        self.batterySize = 75\n",
    "    def describeBatterySize(self):\n",
    "        print(f\"이 차의 배터리 용량은 {self.batterySize} Kwh.\")\n",
    "        \n",
    "    def run(self, running):    # 오버라이드 override\n",
    "        self.odometer += running\n",
    "        self.batterySize -= 10\n",
    "    def showinfo(self):    #오버라이드 override\n",
    "        print(f\"이 자동차의 총 주행거리는 {self.odometer}km이고, 잔여 배터리는 {self.batterySize}Kwh\")\n"
   ]
  },
  {
   "cell_type": "code",
   "execution_count": 71,
   "id": "integral-apparatus",
   "metadata": {},
   "outputs": [
    {
     "name": "stdout",
     "output_type": "stream",
     "text": [
      "2021 tesla model S\n",
      "이 차의 배터리 용량은 75 Kwh.\n",
      "이 자동차의 총 주행거리는 100km이고, 잔여 배터리는 65Kwh\n"
     ]
    }
   ],
   "source": [
    "myTesla = ElectricCar(\"tesla\", \"model S\", 2021)\n",
    "print(myTesla.descriptiveName())\n",
    "myTesla.describeBatterySize()\n",
    "myTesla.run(100)\n",
    "myTesla.showinfo()"
   ]
  },
  {
   "cell_type": "code",
   "execution_count": null,
   "id": "streaming-legend",
   "metadata": {},
   "outputs": [],
   "source": []
  }
 ],
 "metadata": {
  "kernelspec": {
   "display_name": "Python 3",
   "language": "python",
   "name": "python3"
  },
  "language_info": {
   "codemirror_mode": {
    "name": "ipython",
    "version": 3
   },
   "file_extension": ".py",
   "mimetype": "text/x-python",
   "name": "python",
   "nbconvert_exporter": "python",
   "pygments_lexer": "ipython3",
   "version": "3.9.1"
  }
 },
 "nbformat": 4,
 "nbformat_minor": 5
}
