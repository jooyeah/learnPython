{
 "cells": [
  {
   "cell_type": "markdown",
   "id": "julian-boring",
   "metadata": {},
   "source": [
    "# 5일차 수업\n",
    "\n",
    "\n",
    "### 4. 반복문\n",
    "#### 4.1 while을 사용하는 반복문\n",
    "```\n",
    "while 조건식:\n",
    "반복구문\n",
    "```"
   ]
  },
  {
   "cell_type": "code",
   "execution_count": 2,
   "id": "technical-vertical",
   "metadata": {},
   "outputs": [
    {
     "name": "stdout",
     "output_type": "stream",
     "text": [
      "반복할 횟수를 입력해주세요3\n",
      "0 번째 실행\n",
      "1 번째 실행\n",
      "2 번째 실행\n",
      "반복 종료 후 i 값은 3\n"
     ]
    }
   ],
   "source": [
    "cnt = int(input(\"반복할 횟수를 입력해주세요\"))\n",
    "i = 0;\n",
    "while i < cnt :\n",
    "    print(i, \"번째 실행\")\n",
    "    i = i + 1\n",
    "    \n",
    "print(\"반복 종료 후 i 값은\", i)   #while은 제어변수"
   ]
  },
  {
   "cell_type": "markdown",
   "id": "informational-convert",
   "metadata": {},
   "source": [
    "**<연습문제>** 1부터 5까지의 숫자를 출력하는 프로그램을 작성하시오."
   ]
  },
  {
   "cell_type": "code",
   "execution_count": 8,
   "id": "accomplished-background",
   "metadata": {},
   "outputs": [
    {
     "name": "stdout",
     "output_type": "stream",
     "text": [
      "1\n",
      "2\n",
      "3\n",
      "4\n",
      "5\n"
     ]
    }
   ],
   "source": [
    "i = 1;\n",
    "while i <= 5 :\n",
    "    print(i)\n",
    "    i = i +1\n",
    "    "
   ]
  },
  {
   "cell_type": "code",
   "execution_count": 9,
   "id": "conservative-motion",
   "metadata": {},
   "outputs": [
    {
     "name": "stdout",
     "output_type": "stream",
     "text": [
      "작업번호를 입력해주세요. 0을 입력하면 종료합니다.5\n",
      "작업번호를 입력해주세요. 0을 입력하면 종료합니다.45\n",
      "작업번호를 입력해주세요. 0을 입력하면 종료합니다.625\n",
      "작업번호를 입력해주세요. 0을 입력하면 종료합니다.124\n",
      "작업번호를 입력해주세요. 0을 입력하면 종료합니다.0\n",
      "프로그램을 종료합니다.\n"
     ]
    }
   ],
   "source": [
    "job = 999\n",
    "while True:\n",
    "    job = int(input(\"작업번호를 입력해주세요. 0을 입력하면 종료합니다.\"))\n",
    "    if job == 0 : break\n",
    "    else: continue\n",
    "    \n",
    "print(\"프로그램을 종료합니다.\")"
   ]
  },
  {
   "cell_type": "code",
   "execution_count": 10,
   "id": "olympic-database",
   "metadata": {},
   "outputs": [
    {
     "name": "stdout",
     "output_type": "stream",
     "text": [
      "작업번호를 입력해주세요. 0을 입력하면 종료합니다.5\n",
      "작업번호를 입력해주세요. 0을 입력하면 종료합니다.8\n",
      "작업번호를 입력해주세요. 0을 입력하면 종료합니다.652\n",
      "작업번호를 입력해주세요. 0을 입력하면 종료합니다.0\n",
      "프로그램을 종료합니다.\n"
     ]
    }
   ],
   "source": [
    "job = 999\n",
    "while job != 0:\n",
    "    job = int(input(\"작업번호를 입력해주세요. 0을 입력하면 종료합니다.\"))\n",
    "    \n",
    "print(\"프로그램을 종료합니다.\")"
   ]
  },
  {
   "cell_type": "code",
   "execution_count": 13,
   "id": "solar-david",
   "metadata": {},
   "outputs": [
    {
     "name": "stdout",
     "output_type": "stream",
     "text": [
      "주호\n",
      "재은\n",
      "지은\n",
      "정호\n",
      "동진\n",
      "용주\n"
     ]
    }
   ],
   "source": [
    "unconfirmed_users= ['용주', '동진', '정호', '지은', '재은', '주호']\n",
    "confirmed_users= []\n",
    "\n",
    "while unconfirmed_users:\n",
    "    current_user = unconfirmed_users.pop()\n",
    "    confirmed_users.append(current_user)\n",
    "    \n",
    "for confirmed_user in confirmed_users:\n",
    "    print(confirmed_user)"
   ]
  },
  {
   "cell_type": "code",
   "execution_count": 14,
   "id": "younger-milton",
   "metadata": {},
   "outputs": [
    {
     "name": "stdout",
     "output_type": "stream",
     "text": [
      "['주호', '재은', '지은', '정호', '동진', '용주']\n"
     ]
    }
   ],
   "source": [
    "unconfirmed_users= ['용주', '동진', '정호', '지은', '재은', '주호']\n",
    "confirmed_users= []\n",
    "\n",
    "while unconfirmed_users:\n",
    "    current_user = unconfirmed_users.pop()\n",
    "    confirmed_users.append(current_user)\n",
    "    \n",
    "print(confirmed_users)"
   ]
  },
  {
   "cell_type": "code",
   "execution_count": 18,
   "id": "portable-replication",
   "metadata": {},
   "outputs": [
    {
     "name": "stdout",
     "output_type": "stream",
     "text": [
      "Is car == 'subaru'? I predict True.\n",
      "True\n",
      "\n",
      "Is car == 'audi'? I predict False\n",
      "False\n"
     ]
    }
   ],
   "source": [
    "#5-1\n",
    "car = 'subaru'\n",
    "print(\"Is car == 'subaru'? I predict True.\")\n",
    "print(car == 'subaru')\n",
    "print(\"\\nIs car == 'audi'? I predict False\")\n",
    "print(car =='audi')"
   ]
  },
  {
   "cell_type": "code",
   "execution_count": 24,
   "id": "resident-grove",
   "metadata": {},
   "outputs": [
    {
     "name": "stdout",
     "output_type": "stream",
     "text": [
      "Is car == 'bmw'? I predict False\n",
      "False\n"
     ]
    }
   ],
   "source": [
    "#5-1\n",
    "car = 'subaru'\n",
    "print(\"Is car == 'bmw'? I predict False\")\n",
    "print(car == 'bmw')"
   ]
  },
  {
   "cell_type": "code",
   "execution_count": 54,
   "id": "documented-hollywood",
   "metadata": {},
   "outputs": [
    {
     "name": "stdout",
     "output_type": "stream",
     "text": [
      "player get 5 points\n"
     ]
    }
   ],
   "source": [
    "#5-3\n",
    "alien_color = [\"green\"]\n",
    "if 'green' in alien_color:\n",
    "    print(\"player get 5 points\")\n",
    "else:\n",
    "    print(\"\")"
   ]
  },
  {
   "cell_type": "code",
   "execution_count": 37,
   "id": "regular-practice",
   "metadata": {},
   "outputs": [
    {
     "name": "stdout",
     "output_type": "stream",
     "text": [
      "teenager\n"
     ]
    }
   ],
   "source": [
    "#5-6\n",
    "age = 15\n",
    "if age < 2:\n",
    "    print(\"baby\")\n",
    "elif age < 4:\n",
    "    print(\"toddler\")\n",
    "elif age < 13:\n",
    "    print(\"kid\")\n",
    "elif age < 20:\n",
    "    print(\"teenager\")\n",
    "elif age < 65:\n",
    "    print(\"adult\")\n",
    "elif age >=65 :\n",
    "    print(\"elder\")"
   ]
  },
  {
   "cell_type": "code",
   "execution_count": 46,
   "id": "indoor-catalyst",
   "metadata": {},
   "outputs": [
    {
     "name": "stdout",
     "output_type": "stream",
     "text": [
      "apple\n",
      "strawberry\n",
      "banana\n",
      "kiwi\n"
     ]
    }
   ],
   "source": [
    "#5-7\n",
    "favorite_fruits = [\"apple\", \"strawberry\", \"banana\",\"kiwi\"]\n",
    "if 'apple' in favorite_fruits:\n",
    "    print(\"apple\")\n",
    "if 'strawberry' in favorite_fruits:\n",
    "    print(\"strawberry\")\n",
    "if 'banana' in favorite_fruits:\n",
    "    print(\"banana\")\n",
    "if 'kiwi' in favorite_fruits:\n",
    "    print(\"kiwi\")"
   ]
  },
  {
   "cell_type": "code",
   "execution_count": 65,
   "id": "virtual-fundamentals",
   "metadata": {},
   "outputs": [
    {
     "name": "stdout",
     "output_type": "stream",
     "text": [
      "이름을 입력해주세요.admin\n",
      "안녕하세요 관리자님, 상태 보고서를 보시겠습니까?\n"
     ]
    }
   ],
   "source": [
    "#5-8\n",
    "name =[\"admin\", \"eric\", \"james\", \"kevin\",\"jane\"]\n",
    "loginname = input(\"이름을 입력해주세요.\")\n",
    "if loginname == 'admin': print(\"안녕하세요 관리자님, 상태 보고서를 보시겠습니까?\")\n",
    "elif loginname in name:\n",
    "    print(\"안녕하세요.\")\n",
    "else:\n",
    "    print(\"다시 로그인 해주셔서 감사합니다.\")"
   ]
  },
  {
   "cell_type": "code",
   "execution_count": null,
   "id": "amino-actor",
   "metadata": {},
   "outputs": [],
   "source": []
  },
  {
   "cell_type": "code",
   "execution_count": null,
   "id": "trying-mounting",
   "metadata": {},
   "outputs": [],
   "source": []
  },
  {
   "cell_type": "code",
   "execution_count": 20,
   "id": "strong-bargain",
   "metadata": {},
   "outputs": [
    {
     "name": "stdout",
     "output_type": "stream",
     "text": [
      "저녁식사에 몇 명이 오나요?10\n",
      "\n",
      "자리가 날 때까지 기다려야 합니다.\n"
     ]
    }
   ],
   "source": [
    "#7-2\n",
    "number = input(\"저녁식사에 몇 명이 오나요?\")\n",
    "number = int(number)\n",
    "\n",
    "if number>= 9:\n",
    "    print(\"\\n자리가 날 때까지 기다려야 합니다.\")\n",
    "else:\n",
    "    print(\"\\n테이블이 준비되었습니다.\")"
   ]
  },
  {
   "cell_type": "code",
   "execution_count": null,
   "id": "judicial-finance",
   "metadata": {},
   "outputs": [],
   "source": []
  }
 ],
 "metadata": {
  "kernelspec": {
   "display_name": "Python 3",
   "language": "python",
   "name": "python3"
  },
  "language_info": {
   "codemirror_mode": {
    "name": "ipython",
    "version": 3
   },
   "file_extension": ".py",
   "mimetype": "text/x-python",
   "name": "python",
   "nbconvert_exporter": "python",
   "pygments_lexer": "ipython3",
   "version": "3.9.1"
  }
 },
 "nbformat": 4,
 "nbformat_minor": 5
}
