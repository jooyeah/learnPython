{
 "cells": [
  {
   "cell_type": "markdown",
   "id": "instrumental-advancement",
   "metadata": {},
   "source": [
    "# 6일차\n",
    "\n",
    "## 함수"
   ]
  },
  {
   "cell_type": "code",
   "execution_count": 9,
   "id": "studied-speech",
   "metadata": {},
   "outputs": [],
   "source": [
    "#함수 정의\n",
    "# def 함수이름(패러미터리스트): parameter, 인수, 인자, 매개변수\n",
    "#     함수의 내용, function body\n",
    "\n",
    "def greetings(user, times):\n",
    "    if times == '아침':\n",
    "        print(f\"{user},아침은 드셨나요?\")\n",
    "    elif times == '점심':\n",
    "        print(f\"{user},날씨가 참 좋아요\")\n",
    "    elif times == '저녁':\n",
    "        print(f\"{user},편히 쉬세요\")\n",
    "    else :\n",
    "        print(f\"{user},안녕하세요\")"
   ]
  },
  {
   "cell_type": "code",
   "execution_count": 12,
   "id": "behind-prerequisite",
   "metadata": {},
   "outputs": [
    {
     "name": "stdout",
     "output_type": "stream",
     "text": [
      "아저씨,아침은 드셨나요?\n",
      "아주머니,날씨가 참 좋아요\n",
      "아저씨,편히 쉬세요\n",
      ",안녕하세요\n"
     ]
    }
   ],
   "source": [
    "# 함수 호출, 함수 사용\n",
    "\n",
    "greetings('아저씨','아침')\n",
    "greetings('아주머니','점심')\n",
    "greetings('아저씨','저녁')\n",
    "greetings('','')"
   ]
  },
  {
   "cell_type": "code",
   "execution_count": 17,
   "id": "professional-organ",
   "metadata": {},
   "outputs": [],
   "source": [
    "def greetings(user=\"친구야\", times=\"점심\"):\n",
    "    if times == '아침':\n",
    "        print(f\"{user},아침은 드셨나요?\")\n",
    "    elif times == '점심':\n",
    "        print(f\"{user},날씨가 참 좋아요\")\n",
    "    elif times == '저녁':\n",
    "        print(f\"{user},편히 쉬세요\")\n",
    "    else :\n",
    "        print(f\"{user},안녕하세요\")"
   ]
  },
  {
   "cell_type": "code",
   "execution_count": 19,
   "id": "unlimited-milwaukee",
   "metadata": {},
   "outputs": [
    {
     "name": "stdout",
     "output_type": "stream",
     "text": [
      "아저씨,아침은 드셨나요?\n",
      "아주머니,날씨가 참 좋아요\n",
      "아저씨,편히 쉬세요\n",
      "친구야,날씨가 참 좋아요\n"
     ]
    }
   ],
   "source": [
    "greetings('아저씨','아침')\n",
    "greetings('아주머니','점심')\n",
    "greetings('아저씨','저녁')\n",
    "greetings()"
   ]
  },
  {
   "cell_type": "code",
   "execution_count": 16,
   "id": "intended-america",
   "metadata": {},
   "outputs": [
    {
     "name": "stdout",
     "output_type": "stream",
     "text": [
      "My 햄스터의 이름은 harry입니다.\n"
     ]
    }
   ],
   "source": [
    "# 키워드매개변수\n",
    "def describe(animalType, petname):\n",
    "    print(f\"My {animalType}의 이름은 {petname}입니다.\")\n",
    "    \n",
    "describe(animalType='햄스터', petname='harry')"
   ]
  },
  {
   "cell_type": "code",
   "execution_count": 22,
   "id": "sharp-christian",
   "metadata": {},
   "outputs": [
    {
     "name": "stdout",
     "output_type": "stream",
     "text": [
      "사이즈는 L이고, 인쇄할 메시지는 happy입니다.\n"
     ]
    }
   ],
   "source": [
    "#8-3\n",
    "\n",
    "def make_shirt(size, message):\n",
    "    print(f\"사이즈는 {size}이고, 인쇄할 메시지는 {message}입니다.\")\n",
    "    \n",
    "make_shirt(size='L', message='happy')"
   ]
  },
  {
   "cell_type": "code",
   "execution_count": 23,
   "id": "precise-relations",
   "metadata": {},
   "outputs": [
    {
     "name": "stdout",
     "output_type": "stream",
     "text": [
      "SIZE:small, Message ; Hello World\n",
      "SIZE:Hello World, Message ; small\n",
      "SIZE:small, Message : Hello World\n",
      "SIZE:small, Message : Hello World\n",
      "SIZE:large, Message : Hi,There\n"
     ]
    }
   ],
   "source": [
    "def make_shirtP(size, message):\n",
    "    print(f\"SIZE:{size}, Message ; {message}\")\n",
    "    \n",
    "def make_shirtK(size, message='Hi,There'):\n",
    "    print(f\"SIZE:{size}, Message : {message}\")\n",
    "    \n",
    "make_shirtP('small', 'Hello World')\n",
    "make_shirtP('Hello World', 'small')\n",
    "\n",
    "make_shirtK(size = 'small', message = 'Hello World')\n",
    "make_shirtK(message = 'Hello World', size = 'small')\n",
    "make_shirtK(size ='large')"
   ]
  },
  {
   "cell_type": "code",
   "execution_count": 26,
   "id": "tough-conviction",
   "metadata": {},
   "outputs": [
    {
     "data": {
      "text/plain": [
       "4"
      ]
     },
     "execution_count": 26,
     "metadata": {},
     "output_type": "execute_result"
    }
   ],
   "source": [
    "# 함수의 반환값\n",
    "def add(n1, n2):\n",
    "    result = n1 +n2\n",
    "    return result\n",
    "\n",
    "add(1,3)"
   ]
  },
  {
   "cell_type": "code",
   "execution_count": 29,
   "id": "pacific-potential",
   "metadata": {},
   "outputs": [
    {
     "name": "stdout",
     "output_type": "stream",
     "text": [
      "Robert John Downey\n"
     ]
    }
   ],
   "source": [
    "def get_formatted_name(first_name, middle_name, last_name):\n",
    "    full_name = f\"{first_name} {middle_name} {last_name}\"\n",
    "    return full_name.title()\n",
    "\n",
    "human = get_formatted_name('robert', 'john', 'downey')\n",
    "print(human)"
   ]
  },
  {
   "cell_type": "code",
   "execution_count": 30,
   "id": "rolled-scientist",
   "metadata": {},
   "outputs": [
    {
     "name": "stdout",
     "output_type": "stream",
     "text": [
      "{'first': 'jimi', 'last': 'hendrix', 'age': 27}\n"
     ]
    }
   ],
   "source": [
    "def build_person(first_name, last_name, age=None):\n",
    "    person = {'first':first_name, 'last':last_name}\n",
    "    if age:\n",
    "        person['age'] = age\n",
    "    \n",
    "    return person\n",
    "\n",
    "musician = build_person('jimi', 'hendrix', age=27)\n",
    "print(musician)"
   ]
  },
  {
   "cell_type": "code",
   "execution_count": 31,
   "id": "south-wrong",
   "metadata": {},
   "outputs": [
    {
     "name": "stdout",
     "output_type": "stream",
     "text": [
      "{'first': 'Lee', 'last': 'soonshin'}\n"
     ]
    }
   ],
   "source": [
    "musician = build_person('Lee', 'soonshin')\n",
    "print(musician)"
   ]
  },
  {
   "cell_type": "code",
   "execution_count": 33,
   "id": "incorrect-comment",
   "metadata": {},
   "outputs": [
    {
     "ename": "SyntaxError",
     "evalue": "invalid syntax (<ipython-input-33-71aa0eb637a9>, line 9)",
     "output_type": "error",
     "traceback": [
      "\u001b[1;36m  File \u001b[1;32m\"<ipython-input-33-71aa0eb637a9>\"\u001b[1;36m, line \u001b[1;32m9\u001b[0m\n\u001b[1;33m    if city = input(\"City: \")\u001b[0m\n\u001b[1;37m            ^\u001b[0m\n\u001b[1;31mSyntaxError\u001b[0m\u001b[1;31m:\u001b[0m invalid syntax\n"
     ]
    }
   ],
   "source": [
    "#8-6\n",
    "\n",
    "def city_country(city, country):\n",
    "    return f\"{city} {country}\"\n",
    "\n",
    "while True:\n",
    "    print(\"enter 'q' at anytime to quit\")\n",
    "    \n",
    "    if city = input(\"City: \")\n",
    "    country = input(\"Country: \")\n",
    "    \n",
    "    city_country = \n",
    "    "
   ]
  },
  {
   "cell_type": "code",
   "execution_count": 34,
   "id": "growing-thermal",
   "metadata": {},
   "outputs": [
    {
     "name": "stdout",
     "output_type": "stream",
     "text": [
      "enter 'q' to quit \n",
      "Input City : santiago\n",
      "Input Country : chile\n",
      "Santiago, Chile\n",
      "enter 'q' to quit \n",
      "Input City : q\n",
      "Input Country : q\n"
     ]
    }
   ],
   "source": [
    "def city_country(city, country):\n",
    "    return f\"{city}, {country}\".title()\n",
    "\n",
    "while True:\n",
    "    print(\"enter 'q' to quit \")\n",
    "    city = input(\"Input City : \")\n",
    "    country = input(\"Input Country : \")\n",
    "    \n",
    "    if city == 'q' or country == 'q': break\n",
    "        \n",
    "    print(city_country(city,country))"
   ]
  },
  {
   "cell_type": "code",
   "execution_count": 35,
   "id": "double-decline",
   "metadata": {},
   "outputs": [
    {
     "name": "stdout",
     "output_type": "stream",
     "text": [
      "('홍길동',)\n",
      "('용주', '동진', '정호', '지은', '재은')\n"
     ]
    }
   ],
   "source": [
    "def chk_attend(*students):\n",
    "    \"\"\"출석한 학생들의 리스트를 출력해주는 함수\"\"\"\n",
    "    print(students)   # 전달된 학생 명단을 튜플로 구성하여 출력함\n",
    "    \n",
    "chk_attend('홍길동')\n",
    "chk_attend('용주', '동진', '정호', '지은', '재은')"
   ]
  },
  {
   "cell_type": "code",
   "execution_count": 40,
   "id": "passing-quantum",
   "metadata": {},
   "outputs": [
    {
     "name": "stdout",
     "output_type": "stream",
     "text": [
      "{'age': '25', 'location': 'cheongju', 'field': 'management', 'first_name': 'yongju', 'last_name': 'ye'}\n"
     ]
    }
   ],
   "source": [
    "#8-13\n",
    "\n",
    "def build_profile(first, last, **user_info):\n",
    "    user_info['first_name'] = first\n",
    "    user_info['last_name'] = last\n",
    "    return user_info\n",
    "\n",
    "user_profile = build_profile('yongju', 'ye', age='25', location='cheongju', field='management' )\n",
    "print(user_profile)"
   ]
  },
  {
   "cell_type": "code",
   "execution_count": 41,
   "id": "visible-appeal",
   "metadata": {},
   "outputs": [
    {
     "data": {
      "text/plain": [
       "0.20939261544154864"
      ]
     },
     "execution_count": 41,
     "metadata": {},
     "output_type": "execute_result"
    }
   ],
   "source": [
    "import random\n",
    "random.random()"
   ]
  },
  {
   "cell_type": "code",
   "execution_count": null,
   "id": "complete-dealer",
   "metadata": {},
   "outputs": [],
   "source": []
  }
 ],
 "metadata": {
  "kernelspec": {
   "display_name": "Python 3",
   "language": "python",
   "name": "python3"
  },
  "language_info": {
   "codemirror_mode": {
    "name": "ipython",
    "version": 3
   },
   "file_extension": ".py",
   "mimetype": "text/x-python",
   "name": "python",
   "nbconvert_exporter": "python",
   "pygments_lexer": "ipython3",
   "version": "3.9.1"
  }
 },
 "nbformat": 4,
 "nbformat_minor": 5
}
