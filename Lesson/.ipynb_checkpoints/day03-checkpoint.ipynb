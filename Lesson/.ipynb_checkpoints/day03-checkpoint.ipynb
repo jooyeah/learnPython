{
 "cells": [
  {
   "cell_type": "markdown",
   "id": "vertical-african",
   "metadata": {},
   "source": [
    "# 3일차 수업"
   ]
  },
  {
   "cell_type": "markdown",
   "id": "swiss-serum",
   "metadata": {},
   "source": [
    "### 1. 1~2일차 수업내용 Remind"
   ]
  },
  {
   "cell_type": "markdown",
   "id": "sexual-national",
   "metadata": {},
   "source": [
    "#### 1.1 입출력함수"
   ]
  },
  {
   "cell_type": "markdown",
   "id": "special-expert",
   "metadata": {},
   "source": [
    "사용자로부터 데이터를 입력받기 위한 입력함수는 ```python a=i__();"
   ]
  },
  {
   "cell_type": "code",
   "execution_count": 16,
   "id": "offshore-johnson",
   "metadata": {},
   "outputs": [
    {
     "name": "stdout",
     "output_type": "stream",
     "text": [
      "10\n"
     ]
    }
   ],
   "source": [
    "a = input ()"
   ]
  },
  {
   "cell_type": "markdown",
   "id": "wicked-marshall",
   "metadata": {},
   "source": [
    "위 실행코드는 오류가 발생한다. 오류의 내용을 확인하고 원인을 말해보세요.   \n",
    "input()함수를 통한 입력값은 ( **문자열** )이기 때문에 연산적용이 안된 것입니다.  \n",
    "정수로 변환하는 과정이 필요함 ...  int()함수를 사용하는것\n",
    " \n",
    "```python\n",
    "a = int(input(\"a: \"))\n",
    "b = int(input(\"b: \"))\n",
    "result = a + b    # 두개의 숫자를 더하기\n",
    "print(a + \" + \" + b + \" =\" + result)\n",
    "```\n"
   ]
  },
  {
   "cell_type": "code",
   "execution_count": 13,
   "id": "viral-bristol",
   "metadata": {},
   "outputs": [
    {
     "data": {
      "text/plain": [
       "int"
      ]
     },
     "execution_count": 13,
     "metadata": {},
     "output_type": "execute_result"
    }
   ],
   "source": [
    "type(a)"
   ]
  },
  {
   "cell_type": "markdown",
   "id": "acoustic-service",
   "metadata": {},
   "source": [
    "**<연습문제>** 사용자로부터 태어난 해를 입력받아 나이를 계산하는 프로그램을 작성해보자."
   ]
  },
  {
   "cell_type": "code",
   "execution_count": 12,
   "id": "heated-coral",
   "metadata": {},
   "outputs": [
    {
     "name": "stdout",
     "output_type": "stream",
     "text": [
      "a : 2021\n",
      "b : 1997\n",
      "24\n"
     ]
    }
   ],
   "source": [
    "a = int(input(\"a : \"))\n",
    "b = int(input(\"b : \"))\n",
    "result = a - b\n",
    "print(result)"
   ]
  },
  {
   "cell_type": "code",
   "execution_count": 21,
   "id": "valued-ontario",
   "metadata": {},
   "outputs": [
    {
     "name": "stdout",
     "output_type": "stream",
     "text": [
      "태어난 해는? 1997\n",
      "1997년에 태어난 당신은 24살입니다.\n"
     ]
    }
   ],
   "source": [
    "# 프로그램을 작성하기 위해서는\n",
    "# 변수가 있어야 한다.\n",
    "birthYear = int(input(\"태어난 해는? \"))\n",
    "thisYear = 2021\n",
    "age = thisYear - birthYear\n",
    "print(str(birthYear) + \"년에 태어난 당신은 \" + str(age) + \"살입니다.\")"
   ]
  },
  {
   "cell_type": "markdown",
   "id": "instructional-divide",
   "metadata": {},
   "source": [
    "## 변수와 상수\n",
    "**변수 Variable** : 프로그램에서 처리할 데이터를 보관하는 공간의 이름  \n",
    "**상수 Constant** : 변수에 저장되는 숫자 데이터 또는 문자/문지열 데이터 그 자체 literal.  \n",
    "                      PI = 3.141592   \n",
    "**변수의 형태, Type** : 변수에 보관되는 데이터의 모양과 크기를 type  \n",
    "                        숫자(int, float) / 문자(char) / 문자열(string) / 부울(boolean)  "
   ]
  },
  {
   "cell_type": "code",
   "execution_count": 30,
   "id": "correct-relations",
   "metadata": {},
   "outputs": [
    {
     "name": "stdout",
     "output_type": "stream",
     "text": [
      "False\n"
     ]
    }
   ],
   "source": [
    "a = 10 < 5\n",
    "type(a)\n",
    "print(a)"
   ]
  },
  {
   "cell_type": "markdown",
   "id": "useful-liechtenstein",
   "metadata": {},
   "source": [
    "- print()함수를 사용한 다양한 출력  \n",
    "   + 서식의 지정 : 정수 10진수 %d, 16진수 %x, 8진수 %o, 실수 %f, 한 글자 %c, 문자열 %s  \n",
    "   + format과 함께 사용  \n",
    "        \n",
    "print()함수를 이용한 다양한 출력문을 구성해 봅시다.\n"
   ]
  },
  {
   "cell_type": "code",
   "execution_count": 43,
   "id": "lucky-spirit",
   "metadata": {},
   "outputs": [
    {
     "name": "stdout",
     "output_type": "stream",
     "text": [
      "0000000\n",
      "   20\n",
      " 20.0\n",
      "24\n",
      "14\n"
     ]
    }
   ],
   "source": [
    "a = 20\n",
    "print(\"0000000\")\n",
    "print(\"%5d\" % a)    # %d : 정수형 10진수 형태로 출력\n",
    "print(\"%5.1f\" % a)    # %o : 정수형 8진수 형태로 출력\n",
    "print(\"%o\" % a)    # %x : 정수형 16진수 형태로 출력\n",
    "print(\"%x\" % a)    # %f : 실수 형태로 출력"
   ]
  },
  {
   "cell_type": "code",
   "execution_count": 48,
   "id": "pressed-trademark",
   "metadata": {},
   "outputs": [
    {
     "name": "stdout",
     "output_type": "stream",
     "text": [
      "12345678901234567\n",
      "20    20\n"
     ]
    }
   ],
   "source": [
    "print(\"12345678901234567\")\n",
    "print(\"{0:} {1:5}\".format(a, a))"
   ]
  },
  {
   "cell_type": "code",
   "execution_count": 51,
   "id": "biological-wisconsin",
   "metadata": {},
   "outputs": [
    {
     "name": "stdout",
     "output_type": "stream",
     "text": [
      "한국 \n",
      "아이티전문\t학원\n"
     ]
    }
   ],
   "source": [
    "print(\"한국 \\n아이티전문\\t학원\")   # \\n:줄바꿈, \\t : 탭 , \\b "
   ]
  },
  {
   "cell_type": "markdown",
   "id": "collaborative-fetish",
   "metadata": {},
   "source": [
    "**<연습문제>**  섭씨온도를 입력받아 화씨온도로 변환하여 출력하는 프로그램을 작성하시오. 단, 출력을 할 때 섭씨온도와 변환된 화씨온도를 함께 출력해주세요. 소수점 이하는 2자리까지 표현하도록 하시오."
   ]
  },
  {
   "cell_type": "code",
   "execution_count": 66,
   "id": "automotive-independence",
   "metadata": {},
   "outputs": [
    {
     "name": "stdout",
     "output_type": "stream",
     "text": [
      "15 59.0\n"
     ]
    }
   ],
   "source": [
    "a = 15\n",
    "\n",
    "print(a , a * 1.8 + 32)"
   ]
  },
  {
   "cell_type": "code",
   "execution_count": 67,
   "id": "round-material",
   "metadata": {},
   "outputs": [
    {
     "name": "stdout",
     "output_type": "stream",
     "text": [
      "섭씨 온도를 입력해주세요 : 15\n",
      "15.00,59.00\n",
      "15.00 59.00\n"
     ]
    }
   ],
   "source": [
    "tempC = int(input(\"섭씨 온도를 입력해주세요 : \"))\n",
    "tempF = tempC * 1.8 + 32   # f = c * 1.8 + 32\n",
    "print(\"%5.2f,%5.2f\" % (tempC, tempF))\n",
    "print(\"{0:5.2f} {1:5.2f}\".format(tempC, tempF))"
   ]
  },
  {
   "cell_type": "markdown",
   "id": "latest-border",
   "metadata": {},
   "source": [
    "### 연산자 : 산술, 관계, 논리"
   ]
  },
  {
   "cell_type": "code",
   "execution_count": 69,
   "id": "political-envelope",
   "metadata": {},
   "outputs": [
    {
     "name": "stdout",
     "output_type": "stream",
     "text": [
      "3.3333333333333335\n",
      "3\n"
     ]
    }
   ],
   "source": [
    "# 몫을 취하는 연산자 : //\n",
    "print(10 / 3)\n",
    "print(10 // 3)"
   ]
  },
  {
   "cell_type": "code",
   "execution_count": 71,
   "id": "parental-kelly",
   "metadata": {},
   "outputs": [
    {
     "name": "stdout",
     "output_type": "stream",
     "text": [
      "1\n"
     ]
    }
   ],
   "source": [
    "# 나머지를 구하는 연산자 : %\n",
    "print(10 % 3)"
   ]
  },
  {
   "cell_type": "code",
   "execution_count": 73,
   "id": "athletic-exhaust",
   "metadata": {},
   "outputs": [
    {
     "name": "stdout",
     "output_type": "stream",
     "text": [
      "27\n"
     ]
    }
   ],
   "source": [
    "# 거듭제곱을 구하는 연산자 : **\n",
    "print(3**3)"
   ]
  },
  {
   "cell_type": "markdown",
   "id": "dedicated-country",
   "metadata": {},
   "source": [
    "**<연습문제>** 원의 반지름을 입력받아 면적을 구하는 프로그램을 작성하시오."
   ]
  },
  {
   "cell_type": "code",
   "execution_count": 78,
   "id": "downtown-stocks",
   "metadata": {},
   "outputs": [
    {
     "name": "stdout",
     "output_type": "stream",
     "text": [
      "원의 반지름을 입력하시오. 5\n",
      "78.5\n"
     ]
    }
   ],
   "source": [
    "a = int(input(\"원의 반지름을 입력하시오. \"))\n",
    "PI = 3.14\n",
    "b = a * a * PI\n",
    "print(b)"
   ]
  },
  {
   "cell_type": "markdown",
   "id": "reasonable-marijuana",
   "metadata": {},
   "source": [
    "**<연습문제>** 숫자를 입력받아 홀수인지 짝수인지 판단하는 프로그램을 작성하시오."
   ]
  },
  {
   "cell_type": "code",
   "execution_count": 80,
   "id": "intense-institution",
   "metadata": {},
   "outputs": [
    {
     "name": "stdout",
     "output_type": "stream",
     "text": [
      "숫자를 입력하시오.5\n",
      "1\n"
     ]
    }
   ],
   "source": [
    "a = int(input(\"숫자를 입력하시오.\"))\n",
    "print(a % 2)\n"
   ]
  },
  {
   "cell_type": "code",
   "execution_count": 82,
   "id": "unavailable-humidity",
   "metadata": {},
   "outputs": [
    {
     "name": "stdout",
     "output_type": "stream",
     "text": [
      "입력할 숫자는 : 5\n",
      "홀수\n"
     ]
    }
   ],
   "source": [
    "a = int(input(\"입력할 숫자는 : \"))\n",
    "remainder = a % 2\n",
    "if (remainder == 0) :\n",
    "    print (\"짝수\")\n",
    "else : print(\"홀수\")"
   ]
  },
  {
   "cell_type": "code",
   "execution_count": null,
   "id": "played-korea",
   "metadata": {},
   "outputs": [],
   "source": []
  }
 ],
 "metadata": {
  "kernelspec": {
   "display_name": "Python 3",
   "language": "python",
   "name": "python3"
  },
  "language_info": {
   "codemirror_mode": {
    "name": "ipython",
    "version": 3
   },
   "file_extension": ".py",
   "mimetype": "text/x-python",
   "name": "python",
   "nbconvert_exporter": "python",
   "pygments_lexer": "ipython3",
   "version": "3.9.1"
  }
 },
 "nbformat": 4,
 "nbformat_minor": 5
}
