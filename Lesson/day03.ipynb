{
 "cells": [
  {
   "cell_type": "markdown",
   "id": "working-salvation",
   "metadata": {},
   "source": [
    "# 3일차 수업"
   ]
  },
  {
   "cell_type": "markdown",
   "id": "exciting-chinese",
   "metadata": {},
   "source": [
    "### 1. 1~2일차 수업내용 Remind"
   ]
  },
  {
   "cell_type": "markdown",
   "id": "electoral-gospel",
   "metadata": {},
   "source": [
    "#### 1.1 입출력함수"
   ]
  },
  {
   "cell_type": "markdown",
   "id": "accessory-omaha",
   "metadata": {},
   "source": [
    "사용자로부터 데이터를 입력받기 위한 입력함수는 ```python a=i__();"
   ]
  },
  {
   "cell_type": "code",
   "execution_count": 16,
   "id": "legislative-chicken",
   "metadata": {},
   "outputs": [
    {
     "name": "stdout",
     "output_type": "stream",
     "text": [
      "10\n"
     ]
    }
   ],
   "source": [
    "a = input ()"
   ]
  },
  {
   "cell_type": "markdown",
   "id": "coastal-adoption",
   "metadata": {},
   "source": [
    "위 실행코드는 오류가 발생한다. 오류의 내용을 확인하고 원인을 말해보세요.   \n",
    "input()함수를 통한 입력값은 ( **문자열** )이기 때문에 연산적용이 안된 것입니다.  \n",
    "정수로 변환하는 과정이 필요함 ...  int()함수를 사용하는것\n",
    " \n",
    "```python\n",
    "a = int(input(\"a: \"))\n",
    "b = int(input(\"b: \"))\n",
    "result = a + b    # 두개의 숫자를 더하기\n",
    "print(a + \" + \" + b + \" =\" + result)\n",
    "```\n"
   ]
  },
  {
   "cell_type": "code",
   "execution_count": 13,
   "id": "copyrighted-black",
   "metadata": {},
   "outputs": [
    {
     "data": {
      "text/plain": [
       "int"
      ]
     },
     "execution_count": 13,
     "metadata": {},
     "output_type": "execute_result"
    }
   ],
   "source": [
    "type(a)"
   ]
  },
  {
   "cell_type": "markdown",
   "id": "perfect-flush",
   "metadata": {},
   "source": [
    "**<연습문제>** 사용자로부터 태어난 해를 입력받아 나이를 계산하는 프로그램을 작성해보자."
   ]
  },
  {
   "cell_type": "code",
   "execution_count": 12,
   "id": "laughing-butler",
   "metadata": {},
   "outputs": [
    {
     "name": "stdout",
     "output_type": "stream",
     "text": [
      "a : 2021\n",
      "b : 1997\n",
      "24\n"
     ]
    }
   ],
   "source": [
    "a = int(input(\"a : \"))\n",
    "b = int(input(\"b : \"))\n",
    "result = a - b\n",
    "print(result)"
   ]
  },
  {
   "cell_type": "code",
   "execution_count": 21,
   "id": "parental-aviation",
   "metadata": {},
   "outputs": [
    {
     "name": "stdout",
     "output_type": "stream",
     "text": [
      "태어난 해는? 1997\n",
      "1997년에 태어난 당신은 24살입니다.\n"
     ]
    }
   ],
   "source": [
    "# 프로그램을 작성하기 위해서는\n",
    "# 변수가 있어야 한다.\n",
    "birthYear = int(input(\"태어난 해는? \"))\n",
    "thisYear = 2021\n",
    "age = thisYear - birthYear\n",
    "print(str(birthYear) + \"년에 태어난 당신은 \" + str(age) + \"살입니다.\")"
   ]
  },
  {
   "cell_type": "markdown",
   "id": "charged-lawyer",
   "metadata": {},
   "source": [
    "## 변수와 상수\n",
    "**변수 Variable** : 프로그램에서 처리할 데이터를 보관하는 공간의 이름  \n",
    "**상수 Constant** : 변수에 저장되는 숫자 데이터 또는 문자/문지열 데이터 그 자체 literal.  \n",
    "                      PI = 3.141592   \n",
    "**변수의 형태, Type** : 변수에 보관되는 데이터의 모양과 크기를 type  \n",
    "                        숫자(int, float) / 문자(char) / 문자열(string) / 부울(boolean)  "
   ]
  },
  {
   "cell_type": "code",
   "execution_count": 30,
   "id": "mathematical-password",
   "metadata": {},
   "outputs": [
    {
     "name": "stdout",
     "output_type": "stream",
     "text": [
      "False\n"
     ]
    }
   ],
   "source": [
    "a = 10 < 5\n",
    "type(a)\n",
    "print(a)"
   ]
  },
  {
   "cell_type": "markdown",
   "id": "divine-turkish",
   "metadata": {},
   "source": [
    "- print()함수를 사용한 다양한 출력  \n",
    "   + 서식의 지정 : 정수 10진수 %d, 16진수 %x, 8진수 %o, 실수 %f, 한 글자 %c, 문자열 %s  \n",
    "   + format과 함께 사용  \n",
    "        \n",
    "print()함수를 이용한 다양한 출력문을 구성해 봅시다.\n"
   ]
  },
  {
   "cell_type": "code",
   "execution_count": 43,
   "id": "fifth-typing",
   "metadata": {},
   "outputs": [
    {
     "name": "stdout",
     "output_type": "stream",
     "text": [
      "0000000\n",
      "   20\n",
      " 20.0\n",
      "24\n",
      "14\n"
     ]
    }
   ],
   "source": [
    "a = 20\n",
    "print(\"0000000\")\n",
    "print(\"%5d\" % a)    # %d : 정수형 10진수 형태로 출력\n",
    "print(\"%5.1f\" % a)    # %o : 정수형 8진수 형태로 출력\n",
    "print(\"%o\" % a)    # %x : 정수형 16진수 형태로 출력\n",
    "print(\"%x\" % a)    # %f : 실수 형태로 출력"
   ]
  },
  {
   "cell_type": "code",
   "execution_count": 48,
   "id": "signal-warehouse",
   "metadata": {},
   "outputs": [
    {
     "name": "stdout",
     "output_type": "stream",
     "text": [
      "12345678901234567\n",
      "20    20\n"
     ]
    }
   ],
   "source": [
    "print(\"12345678901234567\")\n",
    "print(\"{0:} {1:5}\".format(a, a))"
   ]
  },
  {
   "cell_type": "code",
   "execution_count": 50,
   "id": "european-parent",
   "metadata": {},
   "outputs": [
    {
     "name": "stdout",
     "output_type": "stream",
     "text": [
      "한국 \n",
      "아이티전문\t학원\n"
     ]
    }
   ],
   "source": [
    "print(\"한국 \\n아이티전문\\t학원\")   # \\n:줄바꿈, \\t : 탭 , \\b "
   ]
  },
  {
   "cell_type": "code",
   "execution_count": null,
   "id": "dominant-apple",
   "metadata": {},
   "outputs": [],
   "source": []
  }
 ],
 "metadata": {
  "kernelspec": {
   "display_name": "Python 3",
   "language": "python",
   "name": "python3"
  },
  "language_info": {
   "codemirror_mode": {
    "name": "ipython",
    "version": 3
   },
   "file_extension": ".py",
   "mimetype": "text/x-python",
   "name": "python",
   "nbconvert_exporter": "python",
   "pygments_lexer": "ipython3",
   "version": "3.9.1"
  }
 },
 "nbformat": 4,
 "nbformat_minor": 5
}
