{
 "cells": [
  {
   "cell_type": "markdown",
   "id": "dying-cedar",
   "metadata": {},
   "source": [
    "## 8일차\n",
    "\n",
    "### 파일 다루기와 예외 처리"
   ]
  },
  {
   "cell_type": "code",
   "execution_count": 2,
   "id": "premium-dividend",
   "metadata": {},
   "outputs": [
    {
     "name": "stdout",
     "output_type": "stream",
     "text": [
      "3.1415926535\n",
      "  8979323846\n",
      "  2643383279\n"
     ]
    }
   ],
   "source": [
    "# 파일 읽기 : open(), read()에 대해 설명\n",
    "# open() : 파일 객체 반환\n",
    "# with 블록 종료시 파일 자동 close\n",
    "# 파일 경로를 이용하여 경로와 파일 지정 가능\n",
    "\n",
    "with open('inoutdata/pidigits.txt') as infile:\n",
    "    contents = infile.read()\n",
    "    \n",
    "print(contents)"
   ]
  },
  {
   "cell_type": "code",
   "execution_count": 3,
   "id": "collaborative-insulin",
   "metadata": {},
   "outputs": [
    {
     "name": "stdout",
     "output_type": "stream",
     "text": [
      "3.1415926535\n",
      "\n",
      "  8979323846\n",
      "\n",
      "  2643383279\n"
     ]
    }
   ],
   "source": [
    "# 행 단위로 읽기 \n",
    "\n",
    "with open('inoutdata/pidigits.txt') as infile:\n",
    "    for line in infile:\n",
    "        print(line)\n",
    "          #print(line.rstrip()) #공백라인 제거"
   ]
  },
  {
   "cell_type": "code",
   "execution_count": 4,
   "id": "educational-pollution",
   "metadata": {},
   "outputs": [
    {
     "name": "stdout",
     "output_type": "stream",
     "text": [
      "3.1415926535\n",
      "  8979323846\n",
      "  2643383279\n"
     ]
    }
   ],
   "source": [
    "#파일에서 행 리스트 구성하기\n",
    "\n",
    "filepath = 'inoutdata/pidigits.txt'\n",
    "\n",
    "with open(filepath) as infile:\n",
    "    lines = infile.readlines()  \n",
    "    #readlines()는 파일로부터 데이터를 행 단위로 읽어 리스트로 구성\n",
    "    \n",
    "for line in lines:\n",
    "    print(line.rstrip())"
   ]
  },
  {
   "cell_type": "code",
   "execution_count": 6,
   "id": "tracked-prior",
   "metadata": {},
   "outputs": [
    {
     "data": {
      "text/plain": [
       "['3.1415926535\\n', '  8979323846\\n', '  2643383279']"
      ]
     },
     "execution_count": 6,
     "metadata": {},
     "output_type": "execute_result"
    }
   ],
   "source": [
    "type(lines)\n",
    "lines"
   ]
  },
  {
   "cell_type": "code",
   "execution_count": 7,
   "id": "amber-playback",
   "metadata": {},
   "outputs": [
    {
     "name": "stdout",
     "output_type": "stream",
     "text": [
      "3.1415926535  8979323846  2643383279\n",
      "36\n"
     ]
    }
   ],
   "source": [
    "# 파일 콘텐츠 다루기 \n",
    "\n",
    "filepath = 'inoutdata/pidigits.txt'\n",
    "\n",
    "with open(filepath) as infile:\n",
    "    lines = infile.readlines()\n",
    "    \n",
    "piString = ''\n",
    "for line in lines:\n",
    "    piString += line.rstrip()\n",
    "    \n",
    "print(piString)\n",
    "print(len(piString))"
   ]
  },
  {
   "cell_type": "code",
   "execution_count": 8,
   "id": "quality-climate",
   "metadata": {},
   "outputs": [
    {
     "name": "stdout",
     "output_type": "stream",
     "text": [
      "3.141592653589793238462643383279\n",
      "32\n"
     ]
    }
   ],
   "source": [
    "filepath = 'inoutdata/pidigits.txt'\n",
    "\n",
    "with open(filepath) as infile:\n",
    "    lines = infile.readlines()\n",
    "    \n",
    "piString = ''\n",
    "for line in lines:\n",
    "    piString += line.strip()    #line.strip() 공백까지 제거\n",
    "    \n",
    "print(piString)\n",
    "print(len(piString))"
   ]
  },
  {
   "cell_type": "code",
   "execution_count": 17,
   "id": "baking-gothic",
   "metadata": {},
   "outputs": [
    {
     "name": "stdout",
     "output_type": "stream",
     "text": [
      "3.1415926535897932384626433832795028841971693993751058209749445923078164062862089986280348253421170679...\n",
      "1000002\n"
     ]
    }
   ],
   "source": [
    "# 백만단위의 큰 숫자 다루기\n",
    "\n",
    "filepath = 'inoutdata/mpidigits.txt'\n",
    "\n",
    "with open(filepath) as infile:\n",
    "    lines = infile.readlines()\n",
    "    \n",
    "piString = ''\n",
    "for line in lines:\n",
    "    piString += line.strip()\n",
    "    \n",
    "print(f\"{piString[:102]}...\")\n",
    "print(len(piString))"
   ]
  },
  {
   "cell_type": "code",
   "execution_count": 18,
   "id": "lined-toddler",
   "metadata": {},
   "outputs": [
    {
     "name": "stdout",
     "output_type": "stream",
     "text": [
      "생일을 입력해주세요 yymmdd :971117\n",
      "생일이 pi안에 있습니다.\n",
      "11963번째부터 있으며, 생일 앞뒤 5자리씩을 더 출력하면 148289711177792입니다.\n"
     ]
    }
   ],
   "source": [
    "# 파이에서 내 생일 찾기\n",
    "filepath = 'inoutdata/mpidigits.txt'\n",
    "\n",
    "with open(filepath) as infile:\n",
    "    lines = infile.readlines()\n",
    "    \n",
    "piString = ''\n",
    "for line in lines:\n",
    "    piString += line.rstrip()\n",
    "    \n",
    "birthday = input(\"생일을 입력해주세요 yymmdd :\")\n",
    "if birthday in piString:\n",
    "    print(\"생일이 pi안에 있습니다.\")\n",
    "else:\n",
    "    print(\"생일이 pi안에 없습니다.\")\n",
    "    \n",
    "idx = piString.index(birthday)\n",
    "start = idx - 5\n",
    "end = idx + 10\n",
    "print(f\"{idx}번째부터 있으며, 생일 앞뒤 5자리씩을 더 출력하면 {piString[start:end]}입니다.\")\n"
   ]
  },
  {
   "cell_type": "code",
   "execution_count": 24,
   "id": "prime-silver",
   "metadata": {},
   "outputs": [],
   "source": [
    "# 파일에 쓰기\n",
    "filepath = 'inoutdata/output.txt'\n",
    "\n",
    "# access mode : w: write, a: append, r: read\n",
    "with open(filepath, 'w') as outfile :\n",
    "    outfile.write('I like c++.\\n')\n",
    "    outfile.write('I love programming.\\n')"
   ]
  },
  {
   "cell_type": "code",
   "execution_count": 23,
   "id": "affiliated-military",
   "metadata": {},
   "outputs": [
    {
     "name": "stdout",
     "output_type": "stream",
     "text": [
      "Divide by Zero!\n"
     ]
    }
   ],
   "source": [
    "# 예외 처리하기\n",
    "# try - except 블록   \n",
    "try:\n",
    "    print(5/0)\n",
    "except ZeroDivisionError:\n",
    "    print(\"Divide by Zero!\")"
   ]
  },
  {
   "cell_type": "code",
   "execution_count": 25,
   "id": "active-permit",
   "metadata": {},
   "outputs": [
    {
     "name": "stdout",
     "output_type": "stream",
     "text": [
      "두개의 숫자를 입력해주세요.\n",
      "그만두려면 Q를 눌러주세요.\n",
      "첫번째 숫자는?8\n",
      "두번째 숫자는?0\n",
      "0으로 나누려고 하고 있습니다.\n"
     ]
    }
   ],
   "source": [
    "# if 구문 사용, 오류 상황 회피\n",
    "\n",
    "print(\"두개의 숫자를 입력해주세요.\")\n",
    "print(\"그만두려면 Q를 눌러주세요.\")\n",
    "\n",
    "while True:\n",
    "    first = input(\"첫번째 숫자는?\")\n",
    "    if first == 'q':\n",
    "        break\n",
    "        \n",
    "    second = input(\"두번째 숫자는?\")\n",
    "    if second == 'q':\n",
    "        break\n",
    "        \n",
    "    if int(second) == 0:\n",
    "        print(\"0으로 나누려고 하고 있습니다.\")\n",
    "        break;\n",
    "        \n",
    "    answer = int(first) / int(second)\n",
    "    print(answer)"
   ]
  },
  {
   "cell_type": "code",
   "execution_count": 28,
   "id": "friendly-truth",
   "metadata": {},
   "outputs": [
    {
     "name": "stdout",
     "output_type": "stream",
     "text": [
      "두개의 숫자를 입력해주세요.\n",
      "그만두려면 Q를 눌러주세요.\n",
      "첫번째 숫자는?4\n",
      "두번째 숫자는?0\n",
      "0으로 나누는 오류가 발생했습니다.\n",
      "첫번째 숫자는?5\n",
      "두번째 숫자는?4\n",
      "1.25\n",
      "첫번째 숫자는?0\n",
      "두번째 숫자는?0\n",
      "0으로 나누는 오류가 발생했습니다.\n",
      "첫번째 숫자는?q\n"
     ]
    }
   ],
   "source": [
    "# try - except - else 구문 사용, 오류 회피 및 정상 처리\n",
    "\n",
    "print(\"두개의 숫자를 입력해주세요.\")\n",
    "print(\"그만두려면 Q를 눌러주세요.\")\n",
    "\n",
    "while True:\n",
    "    first = input(\"첫번째 숫자는?\")\n",
    "    if first == 'q':\n",
    "        break\n",
    "        \n",
    "    second = input(\"두번째 숫자는?\")\n",
    "    if second == 'q':\n",
    "        break\n",
    "    try:\n",
    "        answer = int(first) /int(second)\n",
    "    except ZeroDivisionError : \n",
    "        print(\"0으로 나누는 오류가 발생했습니다.\")\n",
    "    else:\n",
    "        print(answer)"
   ]
  },
  {
   "cell_type": "code",
   "execution_count": 35,
   "id": "marked-lebanon",
   "metadata": {},
   "outputs": [
    {
     "name": "stdout",
     "output_type": "stream",
     "text": [
      "3.1415926535\n",
      "  8979323846\n",
      "  2643383279\n"
     ]
    }
   ],
   "source": [
    "# FileNotFoundError 예외 상황 처리\n",
    "\n",
    "filename = 'inoutdata/pidigits.txt'\n",
    "try:\n",
    "    with open(filename) as f:\n",
    "         contents = f.read()\n",
    "except FileNotFoundError:\n",
    "        print(f\"{filename} 파일이 존재하지 않습니다.\")\n",
    "else :\n",
    "        print(contents)"
   ]
  },
  {
   "cell_type": "code",
   "execution_count": 38,
   "id": "norwegian-handy",
   "metadata": {
    "scrolled": true
   },
   "outputs": [
    {
     "name": "stdout",
     "output_type": "stream",
     "text": [
      "파일에는 약 17842개의 단어가 있습니다.\n"
     ]
    }
   ],
   "source": [
    "# 텍스트 분석\n",
    "filename = 'inoutdata/alice.txt'\n",
    "\n",
    "try:\n",
    "    with open(filename) as f:\n",
    "        contents = f.read()\n",
    "except FileNotFoundError:\n",
    "    print(\"파일을 찾을 수 없습니다.\")\n",
    "else :\n",
    "    words = contents.split()\n",
    "    num_words = len(words)\n",
    "    print(f\"파일에는 약 {num_words}개의 단어가 있습니다.\")"
   ]
  },
  {
   "cell_type": "code",
   "execution_count": 44,
   "id": "tutorial-surfing",
   "metadata": {},
   "outputs": [
    {
     "name": "stdout",
     "output_type": "stream",
     "text": [
      "파일에는 약 17842개의 단어가 있습니다.\n",
      "파일에는 약 110806개의 단어가 있습니다.\n"
     ]
    }
   ],
   "source": [
    "# 여러 파일 다루기\n",
    "\n",
    "def count_words(filename): \n",
    "    try:\n",
    "        with open(filename, encoding='UTF-8') as f:\n",
    "            contents = f.read()\n",
    "    except FileNotFoundError:\n",
    "        print(\"파일을 찾을 수 없습니다.\")\n",
    "    else :\n",
    "        words = contents.split()\n",
    "        num_words = len(words)\n",
    "        print(f\"파일에는 약 {num_words}개의 단어가 있습니다.\")\n",
    "        \n",
    "        \n",
    "filenames = ['inoutdata/alice.txt', 'inoutdata/uncletom.txt']\n",
    "for filename in filenames:\n",
    "    count_words(filename)"
   ]
  },
  {
   "cell_type": "code",
   "execution_count": 46,
   "id": "royal-boston",
   "metadata": {},
   "outputs": [],
   "source": [
    "# 데이터 저장과 재사용\n",
    "\n",
    "import json\n",
    "numbers = [1,2,3,4,5,6,7,8,9,10]\n",
    "\n",
    "filename = 'inoutdata/numbers.json'\n",
    "with open(filename, 'w') as outf:\n",
    "    json.dump(numbers,outf)"
   ]
  },
  {
   "cell_type": "code",
   "execution_count": 47,
   "id": "pretty-hostel",
   "metadata": {},
   "outputs": [
    {
     "name": "stdout",
     "output_type": "stream",
     "text": [
      "[1, 2, 3, 4, 5, 6, 7, 8, 9, 10]\n"
     ]
    }
   ],
   "source": [
    "with open(filename) as inf:\n",
    "    rnumbers = json.load(inf)\n",
    "\n",
    "print(rnumbers)"
   ]
  },
  {
   "cell_type": "code",
   "execution_count": 48,
   "id": "theoretical-capitol",
   "metadata": {},
   "outputs": [],
   "source": [
    "#10-3\n",
    "\n",
    "filename = 'inoutdata/guest.txt'\n",
    "\n",
    "with open(filename, 'w') as f:\n",
    "    f.write(\"안녕하세요.\")\n",
    "    f.write(\"이름이 무엇인가요?\")"
   ]
  },
  {
   "cell_type": "code",
   "execution_count": 55,
   "id": "independent-batch",
   "metadata": {},
   "outputs": [
    {
     "name": "stdout",
     "output_type": "stream",
     "text": [
      "프로그래밍을 좋아하는 이유를 알려주세요.\n",
      "그만두려면 Q를 눌러주세요.\n",
      "프로그래밍을 좋아하는 이유는?ffjfkdnkc\n",
      "프로그래밍을 좋아하는 이유는?cnxjds\n",
      "프로그래밍을 좋아하는 이유는?mcnxvdlskjs\n",
      "프로그래밍을 좋아하는 이유는?q\n"
     ]
    }
   ],
   "source": [
    "#10-5\n",
    "filename = 'inoutdata/reason.txt'\n",
    "\n",
    "with open(filename,'a') as f:\n",
    "    print(\"프로그래밍을 좋아하는 이유를 알려주세요.\")\n",
    "    print(\"그만두려면 Q를 눌러주세요.\")\n",
    "    while True:\n",
    "        first = input(\"프로그래밍을 좋아하는 이유는?\")\n",
    "        if first == 'q':\n",
    "            break\n",
    "        else :\n",
    "            f.write(f\"{first}\\n\") \n",
    "        "
   ]
  },
  {
   "cell_type": "code",
   "execution_count": 67,
   "id": "fatal-matter",
   "metadata": {},
   "outputs": [
    {
     "name": "stdout",
     "output_type": "stream",
     "text": [
      "두 개의 숫자를 입력하세요.\n",
      "Q를 입력하면 종료합니다.\n",
      "\n",
      "첫 번째 숫자:10\n",
      "두 번째 숫자:가\n"
     ]
    },
    {
     "ename": "ValueError",
     "evalue": "invalid literal for int() with base 10: '가'",
     "output_type": "error",
     "traceback": [
      "\u001b[1;31m---------------------------------------------------------------------------\u001b[0m",
      "\u001b[1;31mValueError\u001b[0m                                Traceback (most recent call last)",
      "\u001b[1;32m<ipython-input-67-de1e5bf0a0b3>\u001b[0m in \u001b[0;36m<module>\u001b[1;34m\u001b[0m\n\u001b[0;32m     11\u001b[0m     \u001b[1;32mif\u001b[0m \u001b[0msecond_number\u001b[0m \u001b[1;33m==\u001b[0m \u001b[1;34m'q'\u001b[0m\u001b[1;33m:\u001b[0m\u001b[1;33m\u001b[0m\u001b[1;33m\u001b[0m\u001b[0m\n\u001b[0;32m     12\u001b[0m         \u001b[1;32mbreak\u001b[0m\u001b[1;33m\u001b[0m\u001b[1;33m\u001b[0m\u001b[0m\n\u001b[1;32m---> 13\u001b[1;33m     \u001b[0manswer\u001b[0m  \u001b[1;33m=\u001b[0m \u001b[0mint\u001b[0m\u001b[1;33m(\u001b[0m\u001b[0mfirst_number\u001b[0m\u001b[1;33m)\u001b[0m \u001b[1;33m+\u001b[0m \u001b[0mint\u001b[0m\u001b[1;33m(\u001b[0m\u001b[0msecond_number\u001b[0m\u001b[1;33m)\u001b[0m\u001b[1;33m\u001b[0m\u001b[1;33m\u001b[0m\u001b[0m\n\u001b[0m\u001b[0;32m     14\u001b[0m     \u001b[0mprint\u001b[0m\u001b[1;33m(\u001b[0m\u001b[0manswer\u001b[0m\u001b[1;33m)\u001b[0m\u001b[1;33m\u001b[0m\u001b[1;33m\u001b[0m\u001b[0m\n",
      "\u001b[1;31mValueError\u001b[0m: invalid literal for int() with base 10: '가'"
     ]
    }
   ],
   "source": [
    "#10-6\n",
    "\n",
    "print(\"두 개의 숫자를 입력하세요.\")\n",
    "print(\"Q를 입력하면 종료합니다.\")\n",
    "\n",
    "while True:\n",
    "    first_number = input(\"\\n첫 번째 숫자:\")\n",
    "    if first_number == 'q':\n",
    "        break\n",
    "    second_number = input(\"두 번째 숫자:\")\n",
    "    if second_number == 'q':\n",
    "        break\n",
    "    answer  = int(first_number) + int(second_number)\n",
    "    print(answer)        \n",
    "\n",
    "try:\n",
    "    "
   ]
  },
  {
   "cell_type": "code",
   "execution_count": null,
   "id": "deluxe-fitting",
   "metadata": {},
   "outputs": [],
   "source": []
  }
 ],
 "metadata": {
  "kernelspec": {
   "display_name": "Python 3",
   "language": "python",
   "name": "python3"
  },
  "language_info": {
   "codemirror_mode": {
    "name": "ipython",
    "version": 3
   },
   "file_extension": ".py",
   "mimetype": "text/x-python",
   "name": "python",
   "nbconvert_exporter": "python",
   "pygments_lexer": "ipython3",
   "version": "3.9.1"
  }
 },
 "nbformat": 4,
 "nbformat_minor": 5
}
