{
 "cells": [
  {
   "cell_type": "markdown",
   "id": "valid-rapid",
   "metadata": {},
   "source": [
    "## 4일차 수업"
   ]
  },
  {
   "cell_type": "markdown",
   "id": "missing-nickname",
   "metadata": {},
   "source": [
    "### sequence 타입의 자료형\n",
    "\n",
    "#### 1.1 리스트 자료형\n",
    "\n",
    " - 리스트의 정의 : 말 그대로 목록이라는 의미를 가지며, 값을 일렬로 여러개 늘어놓은 형태\n",
    " - 리스트의 생성 : 리스트의 이름 = .[값의 목록], 리스트의 이름 list ()\n",
    " - 리스트의 인덱싱 : 리스트의 특정 번째 요소를 지칭하는 숫자값 - 인덱스. 0 ~ \n",
    " - 리스트의 슬라이싱 : 리스트에서 인덱스의 범위를 지정. lst[1:3]\n",
    " - 리스트 연산\n",
    "  + 더하기 (+)\n",
    "  + 반복하기(*)\n",
    "  + 길이 구하기 len\n",
    " - 리스트의 수정과 삭제 : \n",
    " - 리스트 관련 함수 : \n",
    "  + 요소 추가 append\n",
    "  + 정렬 sort\n",
    "  + 뒤집기 reverse\n",
    "  + 위치 반환 index\n",
    "  + 요소 삽입 insert\n",
    "  + 리스트 제거 remove\n",
    "  + 리스트 요소 끄집어내기 pop\n",
    "  + 리스트에 포함된 요소의 개수 세기 count\n",
    "  + 리스트 확장 extend"
   ]
  },
  {
   "cell_type": "code",
   "execution_count": 2,
   "id": "opposite-happening",
   "metadata": {},
   "outputs": [],
   "source": [
    "# 리스트 생성하기\n",
    "# 리스트의 이름 = [값의 목록  ], 리스트의 이름 = list()\n",
    "lst = [1,2,3,4,5]"
   ]
  },
  {
   "cell_type": "code",
   "execution_count": 4,
   "id": "distinct-maple",
   "metadata": {},
   "outputs": [
    {
     "data": {
      "text/plain": [
       "[1, 2, 3, 4, 5]"
      ]
     },
     "execution_count": 4,
     "metadata": {},
     "output_type": "execute_result"
    }
   ],
   "source": [
    "lst"
   ]
  },
  {
   "cell_type": "code",
   "execution_count": 8,
   "id": "healthy-fifteen",
   "metadata": {},
   "outputs": [
    {
     "data": {
      "text/plain": [
       "1"
      ]
     },
     "execution_count": 8,
     "metadata": {},
     "output_type": "execute_result"
    }
   ],
   "source": [
    "lst[0]  #리스트의 개별 요소에 대한 접근 : 리스트이름[인덱스]"
   ]
  },
  {
   "cell_type": "code",
   "execution_count": 10,
   "id": "adjacent-headset",
   "metadata": {},
   "outputs": [
    {
     "data": {
      "text/plain": [
       "5"
      ]
     },
     "execution_count": 10,
     "metadata": {},
     "output_type": "execute_result"
    }
   ],
   "source": [
    "lst[-1]"
   ]
  },
  {
   "cell_type": "code",
   "execution_count": 1,
   "id": "endangered-lodge",
   "metadata": {},
   "outputs": [],
   "source": [
    "lst2 = list(range(1,20,3))    # range(숫자1, 숫자2, 숫자3) : 0 ~ 숫자까지의 범위의 수를 생성해주는 메서드"
   ]
  },
  {
   "cell_type": "code",
   "execution_count": 3,
   "id": "comic-flooring",
   "metadata": {},
   "outputs": [
    {
     "data": {
      "text/plain": [
       "7"
      ]
     },
     "execution_count": 3,
     "metadata": {},
     "output_type": "execute_result"
    }
   ],
   "source": [
    "len(lst2)  # 리스트의 크기, 요소의 갯수를 확인하는 메서드, len(리스트이름)"
   ]
  },
  {
   "cell_type": "code",
   "execution_count": 6,
   "id": "unnecessary-optimization",
   "metadata": {},
   "outputs": [
    {
     "data": {
      "text/plain": [
       "[1, 4, 7, 10, 13, 16, 19]"
      ]
     },
     "execution_count": 6,
     "metadata": {},
     "output_type": "execute_result"
    }
   ],
   "source": [
    "lst2[:]  # 슬라이싱 [::] 콜론을 사용해서 영역을 지정할 수 있다."
   ]
  },
  {
   "cell_type": "code",
   "execution_count": 39,
   "id": "republican-carroll",
   "metadata": {},
   "outputs": [],
   "source": [
    "# 리스트의 더하기 (not add but concatemate, 산술적 덧셈의 의미가 아니라 두개 리스트를 결합)\n",
    "OddLst = [1,3,5,7,9]\n",
    "EvenLst = [2,4,6,8,10]\n",
    "AllLst = OddLst + EvenLst\n"
   ]
  },
  {
   "cell_type": "code",
   "execution_count": 40,
   "id": "interesting-stupid",
   "metadata": {},
   "outputs": [
    {
     "data": {
      "text/plain": [
       "[1, 3, 5, 7, 9, 2, 4, 6, 8, 10]"
      ]
     },
     "execution_count": 40,
     "metadata": {},
     "output_type": "execute_result"
    }
   ],
   "source": [
    "AllLst"
   ]
  },
  {
   "cell_type": "code",
   "execution_count": 44,
   "id": "overall-equation",
   "metadata": {},
   "outputs": [
    {
     "data": {
      "text/plain": [
       "[1, 3, 5, 7, 9, 1, 3, 5, 7, 9, 1, 3, 5, 7, 9]"
      ]
     },
     "execution_count": 44,
     "metadata": {},
     "output_type": "execute_result"
    }
   ],
   "source": [
    "# 리스트의 * 반복\n",
    "MulLst = OddLst * 3\n",
    "MulLst"
   ]
  },
  {
   "cell_type": "code",
   "execution_count": 9,
   "id": "fifty-arnold",
   "metadata": {},
   "outputs": [
    {
     "data": {
      "text/plain": [
       "['홍길동', '춘향이', '박문수']"
      ]
     },
     "execution_count": 9,
     "metadata": {},
     "output_type": "execute_result"
    }
   ],
   "source": [
    "# 리스트에 새로운 항목 추가하기\n",
    "stName = [\"홍길동\", \"춘향이\", \"박문수\"]\n",
    "stName"
   ]
  },
  {
   "cell_type": "code",
   "execution_count": 11,
   "id": "normal-burton",
   "metadata": {},
   "outputs": [
    {
     "data": {
      "text/plain": [
       "['홍길동', '춘향이', '박문수', '이지은', '이지은']"
      ]
     },
     "execution_count": 11,
     "metadata": {},
     "output_type": "execute_result"
    }
   ],
   "source": [
    "# 지은이가 전학을 왔어요. 학생 명단에 지은을 추가하고 싶어요.\n",
    "# stName[3] = \"이지은\"\n",
    "# 인덱스를 추가하는 방법 대신....\n",
    "# append() 함수를 사용하세요.\n",
    "# 리스트이름.append()\n",
    "\n",
    "stName.append(\"이지은\")\n",
    "stName"
   ]
  },
  {
   "cell_type": "code",
   "execution_count": 12,
   "id": "italic-stanley",
   "metadata": {},
   "outputs": [
    {
     "data": {
      "text/plain": [
       "['홍길동', '춘향이', '박문수', '이지은']"
      ]
     },
     "execution_count": 12,
     "metadata": {},
     "output_type": "execute_result"
    }
   ],
   "source": [
    "# 리스트의 항목 제거 \n",
    "# del, pop\n",
    "stName.pop()\n",
    "stName"
   ]
  },
  {
   "cell_type": "code",
   "execution_count": 14,
   "id": "neural-graduation",
   "metadata": {},
   "outputs": [
    {
     "data": {
      "text/plain": [
       "['홍길동', '춘향이', '이지은']"
      ]
     },
     "execution_count": 14,
     "metadata": {},
     "output_type": "execute_result"
    }
   ],
   "source": [
    "del stName[2]\n",
    "stName"
   ]
  },
  {
   "cell_type": "code",
   "execution_count": 15,
   "id": "original-booking",
   "metadata": {},
   "outputs": [],
   "source": [
    "stName.append(\"나\")"
   ]
  },
  {
   "cell_type": "code",
   "execution_count": 16,
   "id": "little-transparency",
   "metadata": {},
   "outputs": [
    {
     "data": {
      "text/plain": [
       "['홍길동', '춘향이', '이지은', '나']"
      ]
     },
     "execution_count": 16,
     "metadata": {},
     "output_type": "execute_result"
    }
   ],
   "source": [
    "stName"
   ]
  },
  {
   "cell_type": "code",
   "execution_count": 18,
   "id": "desperate-software",
   "metadata": {},
   "outputs": [
    {
     "data": {
      "text/plain": [
       "['홍길동', '춘향이', '이지은']"
      ]
     },
     "execution_count": 18,
     "metadata": {},
     "output_type": "execute_result"
    }
   ],
   "source": [
    "del stName[3]\n",
    "stName"
   ]
  },
  {
   "cell_type": "code",
   "execution_count": 19,
   "id": "convinced-rabbit",
   "metadata": {},
   "outputs": [
    {
     "data": {
      "text/plain": [
       "['홍길동', '을지문덕', '춘향이', '이지은']"
      ]
     },
     "execution_count": 19,
     "metadata": {},
     "output_type": "execute_result"
    }
   ],
   "source": [
    "# 리스트에 항목 삽입 : 리스트이름.insert(인덱스,값)\n",
    "stName.insert(1, \"을지문덕\")\n",
    "stName"
   ]
  },
  {
   "cell_type": "code",
   "execution_count": 20,
   "id": "interior-hamburg",
   "metadata": {},
   "outputs": [
    {
     "data": {
      "text/plain": [
       "['홍길동', '을지문덕', '춘향이']"
      ]
     },
     "execution_count": 20,
     "metadata": {},
     "output_type": "execute_result"
    }
   ],
   "source": [
    "# 값으로 항목지우기 : remove()\n",
    "stName. remove(\"이지은\")\n",
    "stName"
   ]
  },
  {
   "cell_type": "code",
   "execution_count": 21,
   "id": "engaged-mouth",
   "metadata": {},
   "outputs": [
    {
     "data": {
      "text/plain": [
       "['을지문덕', '춘향이', '홍길동']"
      ]
     },
     "execution_count": 21,
     "metadata": {},
     "output_type": "execute_result"
    }
   ],
   "source": [
    "# 리스트의 정렬 sort()\n",
    "stName.sort()\n",
    "stName"
   ]
  },
  {
   "cell_type": "code",
   "execution_count": 23,
   "id": "military-headquarters",
   "metadata": {},
   "outputs": [
    {
     "data": {
      "text/plain": [
       "['홍길동', '춘향이', '을지문덕']"
      ]
     },
     "execution_count": 23,
     "metadata": {},
     "output_type": "execute_result"
    }
   ],
   "source": [
    "# 리스트의 정렬 역순 (reverse 사용) \n",
    "stName.sort(reverse=True)\n",
    "stName"
   ]
  },
  {
   "cell_type": "markdown",
   "id": "amazing-monroe",
   "metadata": {},
   "source": [
    "### 리스트에 대해 루프 실행하기\n",
    "```python\n",
    "print(stName[0])\n",
    "print(stName[1])\n",
    "print(stName[2])\n",
    "```\n",
    "위 방법은 출력해야 할 요소가 아주 많을 때는 불편."
   ]
  },
  {
   "cell_type": "code",
   "execution_count": 25,
   "id": "fifty-audit",
   "metadata": {},
   "outputs": [
    {
     "name": "stdout",
     "output_type": "stream",
     "text": [
      "홍길동\n",
      "춘향이\n",
      "을지문덕\n"
     ]
    }
   ],
   "source": [
    "for name in stName : \n",
    "    print(name)"
   ]
  },
  {
   "cell_type": "code",
   "execution_count": 26,
   "id": "answering-second",
   "metadata": {},
   "outputs": [],
   "source": [
    "# 띄어쓰기, 들여쓰기가 문법적 요소로 작용 Indentation  (:) 콜론 사용"
   ]
  },
  {
   "cell_type": "code",
   "execution_count": 28,
   "id": "stunning-cigarette",
   "metadata": {
    "scrolled": true
   },
   "outputs": [
    {
     "name": "stdout",
     "output_type": "stream",
     "text": [
      "Alice, that was a great trick!\n",
      "I can't wait to see your next trick, Alice\n",
      "\n",
      "David, that was a great trick!\n",
      "I can't wait to see your next trick, David\n",
      "\n",
      "Carolina, that was a great trick!\n",
      "I can't wait to see your next trick, Carolina\n",
      "\n",
      "*************\n"
     ]
    }
   ],
   "source": [
    "magicians= ['alice', 'david', 'carolina']\n",
    "for magician in magicians :\n",
    "    print(f\"{magician.title()}, that was a great trick!\")\n",
    "    print(f\"I can't wait to see your next trick, {magician.title()}\")\n",
    "    print()\n",
    "\n",
    "    \n",
    "print(\"*************\")"
   ]
  },
  {
   "cell_type": "code",
   "execution_count": null,
   "id": "impressive-camcorder",
   "metadata": {},
   "outputs": [],
   "source": []
  },
  {
   "cell_type": "markdown",
   "id": "sized-fitness",
   "metadata": {},
   "source": [
    "#### 1.2 튜플 자료형\n",
    "  ※ 튜플은 몇가지 점을 제외하고 리스트와 거의 비슷. 다른 점\n",
    "  - 리스트는 [ ]으로 둘러싸지만 튜플은 ()으로 둘러싼다.\n",
    "  - 리스트는 그 값의 생성, 삭제, 수정이 가능하지만 튜플은 그 값을 바꿀 수 없다.\n",
    " \n",
    " \n",
    " +  튜플의 생성\n",
    " + 튜플 인덱싱\n",
    " + 튜플 슬라이싱\n",
    " + 튜플 더하기\n",
    " + 튜플 곱하기\n",
    " + 튜플 길이 구하기"
   ]
  },
  {
   "cell_type": "code",
   "execution_count": 7,
   "id": "turned-assault",
   "metadata": {},
   "outputs": [],
   "source": [
    "tpl = tuple(range(1,11,2))"
   ]
  },
  {
   "cell_type": "code",
   "execution_count": 8,
   "id": "wicked-bangladesh",
   "metadata": {},
   "outputs": [
    {
     "data": {
      "text/plain": [
       "(1, 3, 5, 7, 9)"
      ]
     },
     "execution_count": 8,
     "metadata": {},
     "output_type": "execute_result"
    }
   ],
   "source": [
    "tpl"
   ]
  },
  {
   "cell_type": "code",
   "execution_count": 29,
   "id": "vulnerable-ivory",
   "metadata": {},
   "outputs": [
    {
     "data": {
      "text/plain": [
       "5"
      ]
     },
     "execution_count": 29,
     "metadata": {},
     "output_type": "execute_result"
    }
   ],
   "source": [
    "tpl[2]"
   ]
  },
  {
   "cell_type": "code",
   "execution_count": null,
   "id": "classified-companion",
   "metadata": {},
   "outputs": [],
   "source": []
  },
  {
   "cell_type": "markdown",
   "id": "executive-dealing",
   "metadata": {},
   "source": [
    "연속된 데이터를 취급하는 방법 :  \n",
    "    [리스트] - 요소의 수정, 삭제가 가능  \n",
    "    (튜플) - 요소의 수정, 삭제가 불가능  "
   ]
  },
  {
   "cell_type": "markdown",
   "id": "lasting-brisbane",
   "metadata": {},
   "source": [
    "#### 1.3 딕셔너리 자료형\n",
    "\n",
    " - 딕셔너리 :(key1:value1, key2:value2)\n",
    " - 딕셔너리 쌍 추가\n"
   ]
  },
  {
   "cell_type": "markdown",
   "id": "tight-mambo",
   "metadata": {},
   "source": [
    "#### 1.4 집합 자료형\n",
    "\n",
    "집합은 순서의 개념이 없고, 중복을 허용하지 않는다.\n",
    " - 집합 생성하기 : set키워드 사용, set()의 괄호 안에 입력하여 만든다\n",
    " - 교집합 &, intersection"
   ]
  },
  {
   "cell_type": "code",
   "execution_count": null,
   "id": "failing-console",
   "metadata": {},
   "outputs": [],
   "source": []
  },
  {
   "cell_type": "markdown",
   "id": "burning-heritage",
   "metadata": {},
   "source": [
    "### 3. 조건 제어 연습\n",
    "조건제어는 관계연산자 또는 논리연산자 등을 사용하여 조건문을 테스트해서 조건이 참인 경우와 거짓인 경우에 대하여 각각 실행을 달리하는 방식.  \n",
    "사용가능한 관계연산자로는 >,<,>=,<=,==,!= 등을 사용하고, 논리 연산자로 and, or, not 등의 연산자를 사용한다.  \n",
    "#### if 와 else\n",
    "\n",
    "```python\n",
    "if a>b:       # 만약 a가 b보다 크면\n",
    "    print(a)  # a를 출력한다\n",
    "else:         # 그렇지 않으면\n",
    "    print(b)  # b를 출력한다\n",
    "```"
   ]
  },
  {
   "cell_type": "code",
   "execution_count": 34,
   "id": "postal-sector",
   "metadata": {},
   "outputs": [
    {
     "name": "stdout",
     "output_type": "stream",
     "text": [
      "Audi\n",
      "BMW\n",
      "Subaru\n",
      "Toyota\n"
     ]
    }
   ],
   "source": [
    "cars = ['audi', 'bmw', 'subaru', 'toyota']\n",
    "\n",
    "for car in cars:                 # cars 리스트의 요소를 car로 반복해서 가져온다.\n",
    "    if car == 'bmw':             # cars가 bmw이면\n",
    "        print(car.upper())       #전체를 대문자로 출력하고\n",
    "        \n",
    "    else:\n",
    "        print(car.title())       #그렇지 않으면 첫 글자만 대문자로 출력해라."
   ]
  },
  {
   "cell_type": "markdown",
   "id": "worst-painting",
   "metadata": {},
   "source": [
    "#### elif\n",
    "\n",
    "여러 개의 조건을 비교할 때 사용한다.\n",
    "\n",
    "```python\n",
    "if c > d:\n",
    "    print('c가 d보다 크다')\n",
    "elif c == d :\n",
    "    print('c는 d와 같다')\n",
    "elif c < d:\n",
    "    print('c는 d보다 작다.')\n",
    "else:\n",
    "    print('잘 모르겠어요.')\n",
    " ```"
   ]
  },
  {
   "cell_type": "markdown",
   "id": "turned-chapel",
   "metadata": {},
   "source": [
    "**<연습문제>** 다섯과목의 점수가 score 리스트에 저장되어 있다. 총점을 구하고 총점이 90 이상이면 A등급을, 80 이상이면 B등급을, 70 이상이면 C등급을 부여하고, 그렇지 않으면 F등급을 부여하는 프로그램을 작성하시오"
   ]
  },
  {
   "cell_type": "code",
   "execution_count": 35,
   "id": "covered-kansas",
   "metadata": {},
   "outputs": [],
   "source": [
    "lst = [10,20,30,40,50]"
   ]
  },
  {
   "cell_type": "code",
   "execution_count": 36,
   "id": "miniature-subcommittee",
   "metadata": {},
   "outputs": [
    {
     "data": {
      "text/plain": [
       "[10, 20, 30, 40, 50]"
      ]
     },
     "execution_count": 36,
     "metadata": {},
     "output_type": "execute_result"
    }
   ],
   "source": [
    "lst"
   ]
  },
  {
   "cell_type": "code",
   "execution_count": 37,
   "id": "fatal-chest",
   "metadata": {},
   "outputs": [
    {
     "data": {
      "text/plain": [
       "[10, 20, 30, 40, 50]"
      ]
     },
     "execution_count": 37,
     "metadata": {},
     "output_type": "execute_result"
    }
   ],
   "source": [
    "lst"
   ]
  },
  {
   "cell_type": "code",
   "execution_count": 40,
   "id": "scheduled-directive",
   "metadata": {},
   "outputs": [
    {
     "name": "stdout",
     "output_type": "stream",
     "text": [
      "B\n"
     ]
    }
   ],
   "source": [
    "# 문제해결과정\n",
    "# 1. 다섯 과목의 점수로 리스트를 구성하낟.\n",
    "# 2. 총점을 저장하기 위한 변수를 0으로 초기화한다.\n",
    "# 3. 총점을 구하기 위하여 다음 단게를 반복한다.\n",
    "#    3.1 n번째 요소를 가져온다.\n",
    "#    3.2 총점에 n번째 요소를 누적한다.\n",
    "# 4. 평균 = 총점 / 요소갯수\n",
    "# 4. 평균이 90보다 코면 등급을 A라고 한다.\n",
    "#    아닌 경우 80보다 크면 등급을 B라고 한다.\n",
    "#    아닌 경우 70보다 크면 등급을 C라고 한다.\n",
    "#    그것도 아니라면 등급을 F라고 한다.\n",
    "\n",
    "scores = [80,90,85,85,87]\n",
    "total = 0\n",
    "for score in scores:\n",
    "    total += score\n",
    "    \n",
    "avg = total / 5\n",
    "    \n",
    "if avg >= 90: \n",
    "    grade = \"A\"\n",
    "elif avg >= 80: \n",
    "    grade = \"B\"\n",
    "elif avg >= 70: \n",
    "    grade = \"C\"\n",
    "else : \n",
    "    grade = \"F\"\n",
    "    \n",
    "\n",
    "print(grade)"
   ]
  },
  {
   "cell_type": "markdown",
   "id": "communist-lobby",
   "metadata": {},
   "source": [
    "#### 1.3 딕셔너리 자료형\n"
   ]
  },
  {
   "cell_type": "code",
   "execution_count": 1,
   "id": "grave-complex",
   "metadata": {},
   "outputs": [],
   "source": [
    "# 딕셔너리 정의(생성)  - 키와 값의 연관associate에 의한 접근\n",
    "\n",
    "student1 = {'name':'홍길동', 'address':'청주시 상당구'}\n",
    "student2 = {'name':'갑순이', 'address':'청주시 흥덕구'}"
   ]
  },
  {
   "cell_type": "code",
   "execution_count": 2,
   "id": "aggressive-wrong",
   "metadata": {},
   "outputs": [
    {
     "data": {
      "text/plain": [
       "'홍길동'"
      ]
     },
     "execution_count": 2,
     "metadata": {},
     "output_type": "execute_result"
    }
   ],
   "source": [
    "student1['name']"
   ]
  },
  {
   "cell_type": "code",
   "execution_count": 4,
   "id": "thermal-boulder",
   "metadata": {},
   "outputs": [
    {
     "data": {
      "text/plain": [
       "('홍길동', '청주시 흥덕구')"
      ]
     },
     "execution_count": 4,
     "metadata": {},
     "output_type": "execute_result"
    }
   ],
   "source": [
    "student1['name'], student2['address']"
   ]
  },
  {
   "cell_type": "code",
   "execution_count": 5,
   "id": "liable-atlanta",
   "metadata": {},
   "outputs": [],
   "source": [
    "student1['phone'] = '010-1234-4567' #딕셔너리에 새로운 값 추가"
   ]
  },
  {
   "cell_type": "code",
   "execution_count": 6,
   "id": "lasting-nirvana",
   "metadata": {},
   "outputs": [
    {
     "name": "stdout",
     "output_type": "stream",
     "text": [
      "{'name': '홍길동', 'address': '청주시 상당구', 'phone': '010-1234-4567'}\n"
     ]
    }
   ],
   "source": [
    "print(student1)"
   ]
  },
  {
   "cell_type": "code",
   "execution_count": 9,
   "id": "engaged-enclosure",
   "metadata": {},
   "outputs": [],
   "source": [
    "student1['address'] = '청주시 서원구'"
   ]
  },
  {
   "cell_type": "code",
   "execution_count": 10,
   "id": "literary-provision",
   "metadata": {},
   "outputs": [
    {
     "name": "stdout",
     "output_type": "stream",
     "text": [
      "{'name': '홍길동', 'address': '청주시 서원구', 'phone': '010-1234-4567', 'adress': '청주시 서원구'}\n"
     ]
    }
   ],
   "source": [
    "print(student1)"
   ]
  },
  {
   "cell_type": "code",
   "execution_count": 11,
   "id": "romance-yugoslavia",
   "metadata": {},
   "outputs": [
    {
     "name": "stdout",
     "output_type": "stream",
     "text": [
      "{'name': '홍길동', 'address': '청주시 서원구', 'phone': '010-1234-4567', 'adress': '청주시 서원구'}\n"
     ]
    }
   ],
   "source": [
    "print(student1)"
   ]
  },
  {
   "cell_type": "code",
   "execution_count": 12,
   "id": "dietary-investor",
   "metadata": {},
   "outputs": [],
   "source": [
    "student1['address'] = '청주시 서원구' # 딕셔너리 값 수정"
   ]
  },
  {
   "cell_type": "code",
   "execution_count": 13,
   "id": "several-massachusetts",
   "metadata": {},
   "outputs": [
    {
     "name": "stdout",
     "output_type": "stream",
     "text": [
      "{'name': '홍길동', 'address': '청주시 서원구', 'phone': '010-1234-4567', 'adress': '청주시 서원구'}\n"
     ]
    }
   ],
   "source": [
    "print(student1)"
   ]
  },
  {
   "cell_type": "code",
   "execution_count": 15,
   "id": "occasional-delta",
   "metadata": {},
   "outputs": [],
   "source": [
    "del student1['adress']"
   ]
  },
  {
   "cell_type": "code",
   "execution_count": 16,
   "id": "worldwide-factor",
   "metadata": {},
   "outputs": [
    {
     "name": "stdout",
     "output_type": "stream",
     "text": [
      "{'name': '홍길동', 'address': '청주시 서원구', 'phone': '010-1234-4567'}\n"
     ]
    }
   ],
   "source": [
    "print(student1)"
   ]
  },
  {
   "cell_type": "code",
   "execution_count": 17,
   "id": "available-concrete",
   "metadata": {},
   "outputs": [],
   "source": [
    "del student1['address'] #키-값 쌍 제거"
   ]
  },
  {
   "cell_type": "code",
   "execution_count": 18,
   "id": "after-plane",
   "metadata": {},
   "outputs": [
    {
     "name": "stdout",
     "output_type": "stream",
     "text": [
      "{'name': '홍길동', 'phone': '010-1234-4567'}\n"
     ]
    }
   ],
   "source": [
    "print(student1)"
   ]
  },
  {
   "cell_type": "code",
   "execution_count": 19,
   "id": "amateur-lawrence",
   "metadata": {},
   "outputs": [
    {
     "name": "stdout",
     "output_type": "stream",
     "text": [
      "adress 키는 삭제되었습니다\n"
     ]
    }
   ],
   "source": [
    "# result = student1['adress']\n",
    "result = student1.get('adress','adress 키는 삭제되었습니다') #오류를 방지하고, 키가 없을때는 지정된 앖을 반환\n",
    "print(result)"
   ]
  },
  {
   "cell_type": "code",
   "execution_count": 25,
   "id": "adequate-revolution",
   "metadata": {},
   "outputs": [
    {
     "name": "stdout",
     "output_type": "stream",
     "text": [
      "\n",
      "Key: name\n",
      "Value: 홍길동\n",
      "\n",
      "Key: phone\n",
      "Value: 010-1234-4567\n"
     ]
    }
   ],
   "source": [
    "for key, value in student1.items(): \n",
    "    print(f\"\\nKey: {key}\")\n",
    "    print(f\"Value: {value}\")"
   ]
  },
  {
   "cell_type": "code",
   "execution_count": 26,
   "id": "acknowledged-specific",
   "metadata": {},
   "outputs": [
    {
     "name": "stdout",
     "output_type": "stream",
     "text": [
      "\n",
      "Key: name\n",
      "Value: 갑순이\n",
      "\n",
      "Key: address\n",
      "Value: 청주시 흥덕구\n"
     ]
    }
   ],
   "source": [
    "for key, value in student2.items():  #keys(), values()\n",
    "    print(f\"\\nKey: {key}\")\n",
    "    print(f\"Value: {value}\")"
   ]
  },
  {
   "cell_type": "code",
   "execution_count": 34,
   "id": "public-bible",
   "metadata": {},
   "outputs": [
    {
     "name": "stdout",
     "output_type": "stream",
     "text": [
      "\n",
      "Jen's favorite languages are :\n",
      "\tPython\n",
      "\tRuby\n",
      "\n",
      "Sarah's favorite languages are :\n",
      "\tC\n",
      "\n",
      "Edward's favorite languages are :\n",
      "\tRuby\n",
      "\tGo\n",
      "\n",
      "Phil's favorite languages are :\n",
      "\tPython\n",
      "\tJava\n"
     ]
    }
   ],
   "source": [
    "favorite_languages = {\n",
    "    'jen' : ['python', 'ruby'],\n",
    "    'sarah' : ['c'],\n",
    "    'edward' : ['ruby', 'go'],\n",
    "    'phil' : ['python', 'java']\n",
    "}\n",
    "\n",
    "for name, languages in favorite_languages.items():\n",
    "    print (f\"\\n{name.title()}'s favorite languages are :\")\n",
    "    for language in languages:\n",
    "           print(f\"\\t{language.title()}\")"
   ]
  },
  {
   "cell_type": "markdown",
   "id": "continuous-dealing",
   "metadata": {},
   "source": [
    "### 4. 반복문\n",
    "#### 4.1 while을 사용하는 반복문\n",
    "```\n",
    "while 조건식:\n",
    "반복구문\n",
    "```"
   ]
  },
  {
   "cell_type": "code",
   "execution_count": 35,
   "id": "leading-lesson",
   "metadata": {},
   "outputs": [
    {
     "name": "stdout",
     "output_type": "stream",
     "text": [
      "반복할 횟수를 입력해주세요3\n",
      "0 번째 실행\n",
      "1 번째 실행\n",
      "2 번째 실행\n",
      "반복 종료 후 i 값은 3\n"
     ]
    }
   ],
   "source": [
    "cnt = int(input(\"반복할 횟수를 입력해주세요\"))\n",
    "i = 0;\n",
    "while i < cnt :\n",
    "    print(i, \"번째 실행\")\n",
    "    i = i + 1\n",
    "    \n",
    "print(\"반복 종료 후 i 값은\", i)"
   ]
  },
  {
   "cell_type": "code",
   "execution_count": null,
   "id": "extended-print",
   "metadata": {},
   "outputs": [],
   "source": []
  }
 ],
 "metadata": {
  "kernelspec": {
   "display_name": "Python 3",
   "language": "python",
   "name": "python3"
  },
  "language_info": {
   "codemirror_mode": {
    "name": "ipython",
    "version": 3
   },
   "file_extension": ".py",
   "mimetype": "text/x-python",
   "name": "python",
   "nbconvert_exporter": "python",
   "pygments_lexer": "ipython3",
   "version": "3.9.1"
  }
 },
 "nbformat": 4,
 "nbformat_minor": 5
}
