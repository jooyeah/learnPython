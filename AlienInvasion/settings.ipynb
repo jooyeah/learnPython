{
 "cells": [
  {
   "cell_type": "code",
   "execution_count": 8,
   "id": "romance-principle",
   "metadata": {},
   "outputs": [],
   "source": [
    "class Settings:\n",
    "    \"\"\"외계인 침공 게임의 세팅을 모두 저장하는 클래스\"\"\"\n",
    "    \n",
    "    def __init__(self):\n",
    "        \"\"\"게임 세팅을 초기화합니다\"\"\"\n",
    "        #화면 세팅\n",
    "        self.screen_width = 1200\n",
    "        self.screen_height = 800\n",
    "        self.bg_color = (230, 230, 230)"
   ]
  },
  {
   "cell_type": "code",
   "execution_count": null,
   "id": "juvenile-vanilla",
   "metadata": {},
   "outputs": [],
   "source": []
  }
 ],
 "metadata": {
  "kernelspec": {
   "display_name": "Python 3",
   "language": "python",
   "name": "python3"
  },
  "language_info": {
   "codemirror_mode": {
    "name": "ipython",
    "version": 3
   },
   "file_extension": ".py",
   "mimetype": "text/x-python",
   "name": "python",
   "nbconvert_exporter": "python",
   "pygments_lexer": "ipython3",
   "version": "3.9.1"
  }
 },
 "nbformat": 4,
 "nbformat_minor": 5
}
