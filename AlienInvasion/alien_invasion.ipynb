{
 "cells": [
  {
   "cell_type": "code",
   "execution_count": null,
   "id": "australian-sailing",
   "metadata": {},
   "outputs": [
    {
     "name": "stdout",
     "output_type": "stream",
     "text": [
      "pygame 2.0.1 (SDL 2.0.14, Python 3.9.1)\n",
      "Hello from the pygame community. https://www.pygame.org/contribute.html\n"
     ]
    }
   ],
   "source": [
    "import sys\n",
    "import pygame\n",
    "\n",
    "from settings import Settings\n",
    "\n",
    "class AlienInvasion:\n",
    "    \"\"\"게임 전체의 자원과 동작을 관리하는 클래스\"\"\"\n",
    "    \n",
    "    def __init__(self):\n",
    "        \"\"\"게임을 초기화하고 게임 자원 생성을 생성합니다\"\"\"\n",
    "        pygame.init()\n",
    "        self.settings = Settings()\n",
    "        \n",
    "        self.screen = pygame.display.set_mode((1200,800))\n",
    "        pygame.display.set_caption(\"Alien Invasion\")\n",
    "        \n",
    "        #배경색을 설정합니다\n",
    "        self.bg_color = (230,230,230)\n",
    "        \n",
    "    def run_game(self):\n",
    "        \"\"\"게임의 메인 루프를 시작합니다\"\"\"\n",
    "        while True:\n",
    "            #키보드와 마우스 이벤트를 주시합니다\n",
    "            for event in pygame.event.get():\n",
    "                if event.type == pygame.QUIT:\n",
    "                    sys.exit()\n",
    "                    \n",
    "            # 루프의 반복마다 화면을 다시 그립니다\n",
    "            self.screen.fill(self.bg_color)\n",
    "                    \n",
    "            #가장 최근에 그려진 화면을 표시합니다\n",
    "            pygame.display.flip()\n",
    "            \n",
    "if __name__ == '__main__':\n",
    "    #게임 인스턴스를 만들고 게임을 실행합니다\n",
    "    ai = AlienInvasion()\n",
    "    ai.run_game()"
   ]
  },
  {
   "cell_type": "code",
   "execution_count": null,
   "id": "coordinated-indianapolis",
   "metadata": {},
   "outputs": [],
   "source": []
  }
 ],
 "metadata": {
  "kernelspec": {
   "display_name": "Python 3",
   "language": "python",
   "name": "python3"
  },
  "language_info": {
   "codemirror_mode": {
    "name": "ipython",
    "version": 3
   },
   "file_extension": ".py",
   "mimetype": "text/x-python",
   "name": "python",
   "nbconvert_exporter": "python",
   "pygments_lexer": "ipython3",
   "version": "3.9.1"
  }
 },
 "nbformat": 4,
 "nbformat_minor": 5
}
